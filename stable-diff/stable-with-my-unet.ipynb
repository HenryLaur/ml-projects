{
    "cells": [
        {
            "cell_type": "code",
            "execution_count": 7,
            "metadata": {
                "_cell_guid": "b1076dfc-b9ad-4769-8c92-a6c4dae69d19",
                "_uuid": "8f2839f25d086af736a60e9eeb907d3b93b6e0e5",
                "execution": {
                    "iopub.execute_input": "2023-07-21T17:21:44.079015Z",
                    "iopub.status.busy": "2023-07-21T17:21:44.078538Z",
                    "iopub.status.idle": "2023-07-21T17:21:44.088784Z",
                    "shell.execute_reply": "2023-07-21T17:21:44.087766Z",
                    "shell.execute_reply.started": "2023-07-21T17:21:44.078958Z"
                },
                "trusted": true
            },
            "outputs": [],
            "source": [
                "import torch\n",
                "from torch import nn"
            ]
        },
        {
            "cell_type": "code",
            "execution_count": 32,
            "metadata": {
                "execution": {
                    "iopub.execute_input": "2023-07-21T19:55:15.233204Z",
                    "iopub.status.busy": "2023-07-21T19:55:15.232809Z",
                    "iopub.status.idle": "2023-07-21T19:55:15.243182Z",
                    "shell.execute_reply": "2023-07-21T19:55:15.241907Z",
                    "shell.execute_reply.started": "2023-07-21T19:55:15.233170Z"
                },
                "trusted": true
            },
            "outputs": [],
            "source": [
                "from torchvision.utils import save_image\n",
                "import albumentations as A\n",
                "from albumentations.pytorch import ToTensorV2\n",
                "\n",
                "DEVICE = \"cuda\" if torch.cuda.is_available() else \"cpu\"\n",
                "TRAIN_DIR = \"/kaggle/input/landscape-pictures/\"\n",
                "BATCH_SIZE = 8\n",
                "LEARNING_RATE = 3e-4\n",
                "NUM_WORKERS = 2\n",
                "NUM_EPOCHS = 200\n",
                "LOAD_MODEL = True\n",
                "SAVE_MODEL = True\n",
                "SIZE = 64\n",
                "CHECKPOINT_UNET = \"\"\n",
                "\n",
                "transforms = A.Compose(\n",
                "    [\n",
                "        A.Resize(width=SIZE, height=SIZE),\n",
                "        A.Normalize(mean=[0.5, 0.5, 0.5], std=[0.5, 0.5, 0.5], max_pixel_value=255.0,),\n",
                "        A.HorizontalFlip(p=0.5),\n",
                "        ToTensorV2(),\n",
                "    \n",
                "    ],\n",
                "    \n",
                ")\n"
            ]
        },
        {
            "cell_type": "code",
            "execution_count": 9,
            "metadata": {
                "execution": {
                    "iopub.execute_input": "2023-07-21T17:21:44.117223Z",
                    "iopub.status.busy": "2023-07-21T17:21:44.115711Z",
                    "iopub.status.idle": "2023-07-21T17:21:44.136268Z",
                    "shell.execute_reply": "2023-07-21T17:21:44.135039Z",
                    "shell.execute_reply.started": "2023-07-21T17:21:44.116506Z"
                },
                "trusted": true
            },
            "outputs": [],
            "source": [
                "from PIL import Image\n",
                "import os\n",
                "from torch.utils.data import Dataset\n",
                "import numpy as np\n",
                "\n",
                "class LandScapeDataset(Dataset):\n",
                "    def __init__(self, root_dir, transforms=None):\n",
                "        self.root_dir = root_dir\n",
                "        self.list_file = os.listdir(self.root_dir)\n",
                "        self.transforms = transforms\n",
                "\n",
                "        \n",
                "    def __len__(self):\n",
                "        return len(self.list_file)\n",
                "    \n",
                "\n",
                "    def __getitem__(self, index):\n",
                "        img_file = self.list_file[index]\n",
                "        img_path = os.path.join(self.root_dir, img_file)\n",
                "        input_img = np.array(Image.open(img_path).convert('RGB'))\n",
                "        if self.transforms is not None:\n",
                "            return self.transforms(image=input_img)['image']\n",
                "        return input_img"
            ]
        },
        {
            "cell_type": "code",
            "execution_count": 10,
            "metadata": {
                "execution": {
                    "iopub.execute_input": "2023-07-21T17:21:44.143434Z",
                    "iopub.status.busy": "2023-07-21T17:21:44.142376Z",
                    "iopub.status.idle": "2023-07-21T17:21:44.308234Z",
                    "shell.execute_reply": "2023-07-21T17:21:44.306668Z",
                    "shell.execute_reply.started": "2023-07-21T17:21:44.143401Z"
                },
                "trusted": true
            },
            "outputs": [
                {
                    "name": "stdout",
                    "output_type": "stream",
                    "text": [
                        "torch.Size([2, 3, 64, 64])\n"
                    ]
                },
                {
                    "data": {
                        "image/png": "[encoded data removed]",
                        "text/plain": [
                            "<PIL.Image.Image image mode=RGB size=64x64>"
                        ]
                    },
                    "execution_count": 10,
                    "metadata": {},
                    "output_type": "execute_result"
                }
            ],
            "source": [
                "from torch.utils.data import DataLoader\n",
                "te_dataset = LandScapeDataset(root_dir=TRAIN_DIR, transforms=transforms)\n",
                "te_loader = DataLoader(te_dataset, batch_size=2, shuffle=True, num_workers=1)\n",
                "\n",
                "batch= iter(te_loader)\n",
                "images = next(batch)\n",
                "import torchvision.transforms as T\n",
                "images.shape\n",
                "print(images.shape)\n",
                "#print(torch.unique(images, return_counts=True))\n",
                "transform = T.ToPILImage()\n",
                "transform(images[0] * 0.5 + 0.5)"
            ]
        },
        {
            "cell_type": "code",
            "execution_count": 34,
            "metadata": {
                "execution": {
                    "iopub.execute_input": "2023-07-21T19:55:43.979573Z",
                    "iopub.status.busy": "2023-07-21T19:55:43.978838Z",
                    "iopub.status.idle": "2023-07-21T19:55:43.989749Z",
                    "shell.execute_reply": "2023-07-21T19:55:43.987669Z",
                    "shell.execute_reply.started": "2023-07-21T19:55:43.979534Z"
                },
                "trusted": true
            },
            "outputs": [],
            "source": [
                "import torch\n",
                "from torchvision.utils import save_image\n",
                "\n",
                "def save_checkpoint(model, optimizer, filename=\"my_checkpoint.pth.tar\"):\n",
                "    print(\"=> Saving checkpoint\")\n",
                "    checkpoint = {\n",
                "        \"state_dict\": model.state_dict(),\n",
                "        \"optimizer\": optimizer.state_dict(),\n",
                "    }\n",
                "    torch.save(checkpoint, filename)\n",
                "\n",
                "\n",
                "def load_checkpoint(checkpoint_file, model, optimizer, lr):\n",
                "    print(\"=> Loading checkpoint\")\n",
                "    checkpoint = torch.load(\"/kaggle/working/\" + checkpoint_file, map_location=DEVICE)\n",
                "    model.load_state_dict(checkpoint)\n",
                "    # If we don't do this then it will just have learning rate of old checkpoint\n",
                "    # and it will lead to many hours of debugging \\:"
            ]
        },
        {
            "cell_type": "code",
            "execution_count": 27,
            "metadata": {
                "execution": {
                    "iopub.execute_input": "2023-07-21T17:28:27.553786Z",
                    "iopub.status.busy": "2023-07-21T17:28:27.553420Z",
                    "iopub.status.idle": "2023-07-21T17:28:28.523082Z",
                    "shell.execute_reply": "2023-07-21T17:28:28.522044Z",
                    "shell.execute_reply.started": "2023-07-21T17:28:27.553756Z"
                },
                "trusted": true
            },
            "outputs": [
                {
                    "name": "stdout",
                    "output_type": "stream",
                    "text": [
                        "torch.Size([5, 3, 64, 64])\n"
                    ]
                }
            ],
            "source": [
                "class ConvBlock(nn.Module):\n",
                "    def __init__(self, in_channels, out_channels):\n",
                "        super().__init__()\n",
                "        self.conv = nn.Sequential(\n",
                "            nn.Conv2d(in_channels, out_channels, kernel_size=3, padding=1, stride=1),\n",
                "            nn.BatchNorm2d(out_channels),\n",
                "            nn.ReLU(inplace=True),\n",
                "            nn.Conv2d(out_channels, out_channels, kernel_size=3, padding=1, stride=1),\n",
                "            nn.BatchNorm2d(out_channels),\n",
                "            nn.ReLU(inplace=True)\n",
                "        )\n",
                "        \n",
                "    def forward(self, x):\n",
                "        return self.conv(x)\n",
                "    \n",
                "class EncoderBlock(nn.Module):\n",
                "    def __init__(self, in_channels, out_channels, emb_dim=256):\n",
                "        super().__init__()\n",
                "        self.conv = ConvBlock(in_channels, out_channels)\n",
                "        self.pool = nn.MaxPool2d(2, 2)\n",
                "        self.emb_dim = emb_dim\n",
                "        self.emb_layer = nn.Sequential(\n",
                "            nn.SiLU(),\n",
                "            nn.Linear(\n",
                "                emb_dim,\n",
                "                out_channels\n",
                "            ),\n",
                "        )\n",
                "        \n",
                "    def forward(self, x, t):\n",
                "        s = self.conv(x)\n",
                "        p = self.pool(s)\n",
                "        emb = self.emb_layer(t)[:, :, None, None].repeat(1, 1, p.shape[-2], p.shape[-1])\n",
                "        return s, p + emb\n",
                "\n",
                "    \n",
                "class AttentionGate(nn.Module):\n",
                "    def __init__(self, in_channels_input, in_channels_skip, out_channels):\n",
                "        super().__init__()\n",
                "        self.input_conv = nn.Sequential(\n",
                "            nn.Conv2d(in_channels_input, out_channels, kernel_size=1, padding=0, stride=1),\n",
                "            nn.BatchNorm2d(out_channels)\n",
                "        )\n",
                "        \n",
                "        self.skip_conv = nn.Sequential(\n",
                "            nn.Conv2d(in_channels_skip, out_channels, kernel_size=1, padding=0, stride=1),\n",
                "            nn.BatchNorm2d(out_channels)\n",
                "        )\n",
                "        \n",
                "        self.relu = nn.ReLU(inplace=True)\n",
                "        \n",
                "        self.output_conv = nn.Sequential(\n",
                "            nn.Conv2d(out_channels, out_channels, kernel_size=1, padding=0, stride=1),\n",
                "            nn.Sigmoid()\n",
                "        )\n",
                "        \n",
                "    def forward(self, inputs, skips):\n",
                "        x = self.input_conv(inputs)\n",
                "        s = self.skip_conv(skips)\n",
                "        out = self.relu(x + s)\n",
                "        out = self.output_conv(out)\n",
                "        return out * skips\n",
                "        \n",
                "class DecoderBlock(nn.Module):\n",
                "    def __init__(self, in_channels_input, in_channels_skip, out_channels, emb_dim=256):\n",
                "        super().__init__()\n",
                "        self.up = nn.Upsample(scale_factor=2, mode='bilinear', align_corners=True)\n",
                "        self.attention = AttentionGate(in_channels_input, in_channels_skip, out_channels)\n",
                "        self.c1 = ConvBlock(in_channels_input + out_channels, out_channels)\n",
                "        self.emb_dim = emb_dim\n",
                "        self.emb_layer = nn.Sequential(\n",
                "            nn.SiLU(),\n",
                "            nn.Linear(\n",
                "                emb_dim,\n",
                "                out_channels\n",
                "            ),\n",
                "        )\n",
                "        \n",
                "        \n",
                "    def forward(self, x, skip, t):\n",
                "        \n",
                "        x = self.up(x)\n",
                "        skip = self.attention(x, skip)\n",
                "        x = torch.cat([x, skip], dim=1)\n",
                "        x = self.c1(x)\n",
                "        emb = self.emb_layer(t)[:, :, None, None].repeat(1, 1, x.shape[-2], x.shape[-1])\n",
                "        return x + emb\n",
                "        \n",
                "    \n",
                "class AttentionUnet(nn.Module):\n",
                "    def __init__(self, in_channels=3, out_channels=3, features=[64, 128, 256, 512], time_dim=256, device='cuda'):\n",
                "        super().__init__()\n",
                "        self.downs = nn.ModuleList()\n",
                "        self.ups = nn.ModuleList()\n",
                "        self.device = device\n",
                "        for feature in features:\n",
                "            self.downs.append(EncoderBlock(in_channels, feature))\n",
                "            in_channels = feature\n",
                "                              \n",
                "\n",
                "        self.b1 = ConvBlock(features[-1], features[-1] * 2)\n",
                "        \n",
                "        for feature in reversed(features):\n",
                "            self.ups.append(DecoderBlock(feature * 2, feature, feature))\n",
                "            \n",
                "        self.final = nn.Conv2d(features[0], out_channels, kernel_size=1, padding=0)\n",
                "        self.time_dim = time_dim\n",
                "    def pos_encoding(self, t, channels):\n",
                "        inv_freq = 1.0 / (\n",
                "            10000\n",
                "            ** (torch.arange(0, channels, 2).float() / channels)\n",
                "        ).to(self.device)\n",
                "        pos_enc_a = torch.sin(t.repeat(1, channels // 2) * inv_freq)\n",
                "        pos_enc_b = torch.cos(t.repeat(1, channels // 2) * inv_freq)\n",
                "        pos_enc = torch.cat([pos_enc_a, pos_enc_b], dim=-1)\n",
                "        return pos_enc\n",
                "    \n",
                "    def forward(self, x, t):\n",
                "        t = t.unsqueeze(-1).type(torch.float)\n",
                "        t = self.pos_encoding(t, self.time_dim)\n",
                "        \n",
                "        skips = []\n",
                "        for down in self.downs:\n",
                "            s, x = down(x, t)\n",
                "            skips.append(s)\n",
                "        \n",
                "        x = self.b1(x)\n",
                "        \n",
                "        for up in self.ups:\n",
                "            a = skips.pop()\n",
                "            x = up(x, a, t)\n",
                "        \n",
                "        return self.final(x)\n",
                "        \n",
                "x = torch.randn((5, 3, 64, 64))\n",
                "model = AttentionUnet(3, 3, device='cpu')\n",
                "t = x.new_tensor([500] * x.shape[0]).long()\n",
                "print(model(x, t).shape)"
            ]
        },
        {
            "cell_type": "code",
            "execution_count": 16,
            "metadata": {
                "execution": {
                    "iopub.execute_input": "2023-07-21T17:22:23.077520Z",
                    "iopub.status.busy": "2023-07-21T17:22:23.076863Z",
                    "iopub.status.idle": "2023-07-21T17:22:23.094956Z",
                    "shell.execute_reply": "2023-07-21T17:22:23.094006Z",
                    "shell.execute_reply.started": "2023-07-21T17:22:23.077485Z"
                },
                "trusted": true
            },
            "outputs": [],
            "source": [
                "import os\n",
                "import torch\n",
                "import torch.nn as nn\n",
                "from matplotlib import pyplot as plt\n",
                "from tqdm import tqdm\n",
                "from torch import optim\n",
                "import logging\n",
                "\n",
                "class Diffusion:\n",
                "    def __init__(self, noise_steps=1000, beta_start=1e-4, beta_end=0.02, img_size=256, device=\"cuda\"):\n",
                "        self.noise_steps = noise_steps\n",
                "        self.beta_start = beta_start\n",
                "        self.beta_end = beta_end\n",
                "        self.img_size = img_size\n",
                "        self.device = device\n",
                "\n",
                "        self.beta = self.prepare_noise_schedule().to(device)\n",
                "        self.alpha = 1. - self.beta\n",
                "        self.alpha_hat = torch.cumprod(self.alpha, dim=0)\n",
                "\n",
                "    def prepare_noise_schedule(self):\n",
                "        return torch.linspace(self.beta_start, self.beta_end, self.noise_steps)\n",
                "\n",
                "    def noise_images(self, x, t):\n",
                "        sqrt_alpha_hat = torch.sqrt(self.alpha_hat[t])[:, None, None, None]\n",
                "        sqrt_one_minus_alpha_hat = torch.sqrt(1 - self.alpha_hat[t])[:, None, None, None]\n",
                "        Ɛ = torch.randn_like(x)\n",
                "        return sqrt_alpha_hat * x + sqrt_one_minus_alpha_hat * Ɛ, Ɛ\n",
                "\n",
                "    def sample_timesteps(self, n):\n",
                "        return torch.randint(low=1, high=self.noise_steps, size=(n,))\n",
                "\n",
                "    def sample(self, model, n):\n",
                "        logging.info(f\"Sampling {n} new images....\")\n",
                "        model.eval()\n",
                "        with torch.no_grad():\n",
                "            x = torch.randn((n, 3, self.img_size, self.img_size)).to(self.device)\n",
                "            for i in tqdm(reversed(range(1, self.noise_steps)), position=0):\n",
                "                t = (torch.ones(n) * i).long().to(self.device)\n",
                "                predicted_noise = model(x, t)\n",
                "                alpha = self.alpha[t][:, None, None, None]\n",
                "                alpha_hat = self.alpha_hat[t][:, None, None, None]\n",
                "                beta = self.beta[t][:, None, None, None]\n",
                "                if i > 1:\n",
                "                    noise = torch.randn_like(x)\n",
                "                else:\n",
                "                    noise = torch.zeros_like(x)\n",
                "                x = 1 / torch.sqrt(alpha) * (x - ((1 - alpha) / (torch.sqrt(1 - alpha_hat))) * predicted_noise) + torch.sqrt(beta) * noise\n",
                "        model.train()\n",
                "        x = (x.clamp(-1, 1) + 1) / 2\n",
                "        x = (x * 255).type(torch.uint8)\n",
                "        return x"
            ]
        },
        {
            "cell_type": "code",
            "execution_count": 38,
            "metadata": {
                "execution": {
                    "iopub.execute_input": "2023-07-21T19:58:54.997754Z",
                    "iopub.status.busy": "2023-07-21T19:58:54.997383Z",
                    "iopub.status.idle": "2023-07-21T19:58:55.014287Z",
                    "shell.execute_reply": "2023-07-21T19:58:55.013235Z",
                    "shell.execute_reply.started": "2023-07-21T19:58:54.997721Z"
                },
                "trusted": true
            },
            "outputs": [],
            "source": [
                "import os\n",
                "import torch\n",
                "import torchvision\n",
                "from PIL import Image\n",
                "from matplotlib import pyplot as plt\n",
                "from torch.utils.data import DataLoader\n",
                "\n",
                "\n",
                "def plot_images(images):\n",
                "    plt.figure(figsize=(32, 32))\n",
                "    plt.imshow(torch.cat([\n",
                "        torch.cat([i for i in images.cpu()], dim=-1),\n",
                "    ], dim=-2).permute(1, 2, 0).cpu())\n",
                "    plt.show()\n",
                "\n",
                "\n",
                "def save_images(images, path, **kwargs):\n",
                "    grid = torchvision.utils.make_grid(images, **kwargs)\n",
                "    ndarr = grid.permute(1, 2, 0).to('cpu').numpy()\n",
                "    im = Image.fromarray(ndarr)\n",
                "    #im.save(path)\n",
                "    \n",
                "    img_grid = wandb.Image(\n",
                "        im\n",
                "    )\n",
                "    wandb.log({\"Real\": img_grid})\n",
                "\n",
                "\n",
                "def get_data(batch_size, image_size):\n",
                "    transforms = A.Compose([\n",
                "        A.Resize(80,80),  # args.image_size + 1/4 *args.image_size\n",
                "        A.RandomResizedCrop(image_size, image_size, scale=(0.8, 1.0)),\n",
                "        A.Normalize(mean=[0.5, 0.5, 0.5], std=[0.5, 0.5, 0.5], max_pixel_value=255.0,),\n",
                "        ToTensorV2(),\n",
                "    ])\n",
                "    dataset = LandScapeDataset(root_dir=TRAIN_DIR, transforms=transforms)\n",
                "    dataloader = DataLoader(dataset, batch_size=batch_size, shuffle=True)\n",
                "    return dataloader\n",
                "\n",
                "\n",
                "def setup_logging(run_name):\n",
                "    os.makedirs(\"models\", exist_ok=True)\n",
                "    os.makedirs(\"results\", exist_ok=True)\n",
                "    os.makedirs(os.path.join(\"models\", run_name), exist_ok=True)\n",
                "    os.makedirs(os.path.join(\"results\", run_name), exist_ok=True)"
            ]
        },
        {
            "cell_type": "code",
            "execution_count": 19,
            "metadata": {
                "execution": {
                    "iopub.execute_input": "2023-07-21T17:22:49.900791Z",
                    "iopub.status.busy": "2023-07-21T17:22:49.899889Z",
                    "iopub.status.idle": "2023-07-21T17:23:32.831239Z",
                    "shell.execute_reply": "2023-07-21T17:23:32.830308Z",
                    "shell.execute_reply.started": "2023-07-21T17:22:49.900742Z"
                },
                "trusted": true
            },
            "outputs": [
                {
                    "name": "stdout",
                    "output_type": "stream",
                    "text": [
                        "Requirement already satisfied: wandb in /opt/conda/lib/python3.10/site-packages (0.15.5)\n",
                        "Requirement already satisfied: Click!=8.0.0,>=7.1 in /opt/conda/lib/python3.10/site-packages (from wandb) (8.1.3)\n",
                        "Requirement already satisfied: GitPython!=3.1.29,>=1.0.0 in /opt/conda/lib/python3.10/site-packages (from wandb) (3.1.31)\n",
                        "Requirement already satisfied: requests<3,>=2.0.0 in /opt/conda/lib/python3.10/site-packages (from wandb) (2.31.0)\n",
                        "Requirement already satisfied: psutil>=5.0.0 in /opt/conda/lib/python3.10/site-packages (from wandb) (5.9.3)\n",
                        "Requirement already satisfied: sentry-sdk>=1.0.0 in /opt/conda/lib/python3.10/site-packages (from wandb) (1.27.1)\n",
                        "Requirement already satisfied: docker-pycreds>=0.4.0 in /opt/conda/lib/python3.10/site-packages (from wandb) (0.4.0)\n",
                        "Requirement already satisfied: PyYAML in /opt/conda/lib/python3.10/site-packages (from wandb) (6.0)\n",
                        "Requirement already satisfied: pathtools in /opt/conda/lib/python3.10/site-packages (from wandb) (0.1.2)\n",
                        "Requirement already satisfied: setproctitle in /opt/conda/lib/python3.10/site-packages (from wandb) (1.3.2)\n",
                        "Requirement already satisfied: setuptools in /opt/conda/lib/python3.10/site-packages (from wandb) (59.8.0)\n",
                        "Requirement already satisfied: appdirs>=1.4.3 in /opt/conda/lib/python3.10/site-packages (from wandb) (1.4.4)\n",
                        "Requirement already satisfied: protobuf!=4.21.0,<5,>=3.19.0 in /opt/conda/lib/python3.10/site-packages (from wandb) (3.20.3)\n",
                        "Requirement already satisfied: six>=1.4.0 in /opt/conda/lib/python3.10/site-packages (from docker-pycreds>=0.4.0->wandb) (1.16.0)\n",
                        "Requirement already satisfied: gitdb<5,>=4.0.1 in /opt/conda/lib/python3.10/site-packages (from GitPython!=3.1.29,>=1.0.0->wandb) (4.0.10)\n",
                        "Requirement already satisfied: charset-normalizer<4,>=2 in /opt/conda/lib/python3.10/site-packages (from requests<3,>=2.0.0->wandb) (3.1.0)\n",
                        "Requirement already satisfied: idna<4,>=2.5 in /opt/conda/lib/python3.10/site-packages (from requests<3,>=2.0.0->wandb) (3.4)\n",
                        "Requirement already satisfied: urllib3<3,>=1.21.1 in /opt/conda/lib/python3.10/site-packages (from requests<3,>=2.0.0->wandb) (1.26.15)\n",
                        "Requirement already satisfied: certifi>=2017.4.17 in /opt/conda/lib/python3.10/site-packages (from requests<3,>=2.0.0->wandb) (2023.5.7)\n",
                        "Requirement already satisfied: smmap<6,>=3.0.1 in /opt/conda/lib/python3.10/site-packages (from gitdb<5,>=4.0.1->GitPython!=3.1.29,>=1.0.0->wandb) (5.0.0)\n"
                    ]
                },
                {
                    "name": "stderr",
                    "output_type": "stream",
                    "text": [
                        "\u001b[34m\u001b[1mwandb\u001b[0m: Currently logged in as: \u001b[33mhenry-laur\u001b[0m. Use \u001b[1m`wandb login --relogin`\u001b[0m to force relogin\n",
                        "\u001b[34m\u001b[1mwandb\u001b[0m: \u001b[33mWARNING\u001b[0m If you're specifying your api key in code, ensure this code is not shared publicly.\n",
                        "\u001b[34m\u001b[1mwandb\u001b[0m: \u001b[33mWARNING\u001b[0m Consider setting the WANDB_API_KEY environment variable, or running `wandb login` from the command line.\n",
                        "\u001b[34m\u001b[1mwandb\u001b[0m: Appending key for api.wandb.ai to your netrc file: /root/.netrc\n"
                    ]
                },
                {
                    "data": {
                        "text/html": [
                            "Tracking run with wandb version 0.15.5"
                        ],
                        "text/plain": [
                            "<IPython.core.display.HTML object>"
                        ]
                    },
                    "metadata": {},
                    "output_type": "display_data"
                },
                {
                    "data": {
                        "text/html": [
                            "Run data is saved locally in <code>/kaggle/working/wandb/run-20230721_172301-gcqajglg</code>"
                        ],
                        "text/plain": [
                            "<IPython.core.display.HTML object>"
                        ]
                    },
                    "metadata": {},
                    "output_type": "display_data"
                },
                {
                    "data": {
                        "text/html": [
                            "Syncing run <strong><a href='https://wandb.ai/henry-laur/my-awesome-project/runs/gcqajglg' target=\"_blank\">prime-spaceship-9</a></strong> to <a href='https://wandb.ai/henry-laur/my-awesome-project' target=\"_blank\">Weights & Biases</a> (<a href='https://wandb.me/run' target=\"_blank\">docs</a>)<br/>"
                        ],
                        "text/plain": [
                            "<IPython.core.display.HTML object>"
                        ]
                    },
                    "metadata": {},
                    "output_type": "display_data"
                },
                {
                    "data": {
                        "text/html": [
                            " View project at <a href='https://wandb.ai/henry-laur/my-awesome-project' target=\"_blank\">https://wandb.ai/henry-laur/my-awesome-project</a>"
                        ],
                        "text/plain": [
                            "<IPython.core.display.HTML object>"
                        ]
                    },
                    "metadata": {},
                    "output_type": "display_data"
                },
                {
                    "data": {
                        "text/html": [
                            " View run at <a href='https://wandb.ai/henry-laur/my-awesome-project/runs/gcqajglg' target=\"_blank\">https://wandb.ai/henry-laur/my-awesome-project/runs/gcqajglg</a>"
                        ],
                        "text/plain": [
                            "<IPython.core.display.HTML object>"
                        ]
                    },
                    "metadata": {},
                    "output_type": "display_data"
                }
            ],
            "source": [
                "!pip install wandb\n",
                "from kaggle_secrets import UserSecretsClient\n",
                "import wandb\n",
                "wandb.login(key=UserSecretsClient().get_secret(\"wandb_api\"))\n",
                "run = wandb.init(\n",
                "    # Set the project where this run will be logged\n",
                "    project=\"my-awesome-project\",\n",
                "    # Track hyperparameters and run metadata\n",
                "    config={\n",
                "        \"learning_rate\": LEARNING_RATE,\n",
                "        \"EPOCHS\": NUM_EPOCHS,\n",
                "        \"batch_size\": BATCH_SIZE\n",
                "    })\n",
                "\n"
            ]
        },
        {
            "cell_type": "code",
            "execution_count": 39,
            "metadata": {
                "execution": {
                    "iopub.execute_input": "2023-07-21T19:58:58.205002Z",
                    "iopub.status.busy": "2023-07-21T19:58:58.203792Z",
                    "iopub.status.idle": "2023-07-21T22:05:52.560831Z",
                    "shell.execute_reply": "2023-07-21T22:05:52.556076Z",
                    "shell.execute_reply.started": "2023-07-21T19:58:58.204941Z"
                },
                "trusted": true
            },
            "outputs": [
                {
                    "name": "stdout",
                    "output_type": "stream",
                    "text": [
                        "=> Loading checkpoint\n",
                        "Starting epoch 0:\n"
                    ]
                },
                {
                    "name": "stderr",
                    "output_type": "stream",
                    "text": [
                        "100%|██████████| 540/540 [01:07<00:00,  7.98it/s, MSE=0.00741]\n",
                        "999it [00:13, 74.23it/s]\n",
                        "\u001b[34m\u001b[1mwandb\u001b[0m: \u001b[33mWARNING\u001b[0m Symlinked 0 file into the W&B run directory, call wandb.save again to sync new files.\n"
                    ]
                },
                {
                    "name": "stdout",
                    "output_type": "stream",
                    "text": [
                        "Starting epoch 1:\n"
                    ]
                },
                {
                    "name": "stderr",
                    "output_type": "stream",
                    "text": [
                        "100%|██████████| 540/540 [01:07<00:00,  8.05it/s, MSE=0.00941]\n",
                        "999it [00:13, 74.50it/s]\n",
                        "\u001b[34m\u001b[1mwandb\u001b[0m: \u001b[33mWARNING\u001b[0m Symlinked 0 file into the W&B run directory, call wandb.save again to sync new files.\n"
                    ]
                },
                {
                    "name": "stdout",
                    "output_type": "stream",
                    "text": [
                        "Starting epoch 2:\n"
                    ]
                },
                {
                    "name": "stderr",
                    "output_type": "stream",
                    "text": [
                        "100%|██████████| 540/540 [01:07<00:00,  8.06it/s, MSE=0.0244] \n",
                        "999it [00:13, 74.00it/s]\n",
                        "\u001b[34m\u001b[1mwandb\u001b[0m: \u001b[33mWARNING\u001b[0m Symlinked 0 file into the W&B run directory, call wandb.save again to sync new files.\n"
                    ]
                },
                {
                    "name": "stdout",
                    "output_type": "stream",
                    "text": [
                        "Starting epoch 3:\n"
                    ]
                },
                {
                    "name": "stderr",
                    "output_type": "stream",
                    "text": [
                        "100%|██████████| 540/540 [01:06<00:00,  8.08it/s, MSE=0.0441] \n",
                        "999it [00:13, 74.75it/s]\n",
                        "\u001b[34m\u001b[1mwandb\u001b[0m: \u001b[33mWARNING\u001b[0m Symlinked 0 file into the W&B run directory, call wandb.save again to sync new files.\n"
                    ]
                },
                {
                    "name": "stdout",
                    "output_type": "stream",
                    "text": [
                        "Starting epoch 4:\n"
                    ]
                },
                {
                    "name": "stderr",
                    "output_type": "stream",
                    "text": [
                        "100%|██████████| 540/540 [01:07<00:00,  8.02it/s, MSE=0.0482] \n",
                        "999it [00:13, 73.00it/s]\n",
                        "\u001b[34m\u001b[1mwandb\u001b[0m: \u001b[33mWARNING\u001b[0m Symlinked 0 file into the W&B run directory, call wandb.save again to sync new files.\n"
                    ]
                },
                {
                    "name": "stdout",
                    "output_type": "stream",
                    "text": [
                        "Starting epoch 5:\n"
                    ]
                },
                {
                    "name": "stderr",
                    "output_type": "stream",
                    "text": [
                        "100%|██████████| 540/540 [01:08<00:00,  7.94it/s, MSE=0.00475]\n",
                        "999it [00:13, 74.61it/s]\n",
                        "\u001b[34m\u001b[1mwandb\u001b[0m: \u001b[33mWARNING\u001b[0m Symlinked 0 file into the W&B run directory, call wandb.save again to sync new files.\n"
                    ]
                },
                {
                    "name": "stdout",
                    "output_type": "stream",
                    "text": [
                        "Starting epoch 6:\n"
                    ]
                },
                {
                    "name": "stderr",
                    "output_type": "stream",
                    "text": [
                        "100%|██████████| 540/540 [01:07<00:00,  7.98it/s, MSE=0.0156] \n",
                        "999it [00:13, 74.84it/s]\n",
                        "\u001b[34m\u001b[1mwandb\u001b[0m: \u001b[33mWARNING\u001b[0m Symlinked 0 file into the W&B run directory, call wandb.save again to sync new files.\n"
                    ]
                },
                {
                    "name": "stdout",
                    "output_type": "stream",
                    "text": [
                        "Starting epoch 7:\n"
                    ]
                },
                {
                    "name": "stderr",
                    "output_type": "stream",
                    "text": [
                        "100%|██████████| 540/540 [01:07<00:00,  8.01it/s, MSE=0.0552] \n",
                        "999it [00:13, 74.01it/s]\n",
                        "\u001b[34m\u001b[1mwandb\u001b[0m: \u001b[33mWARNING\u001b[0m Symlinked 0 file into the W&B run directory, call wandb.save again to sync new files.\n"
                    ]
                },
                {
                    "name": "stdout",
                    "output_type": "stream",
                    "text": [
                        "Starting epoch 8:\n"
                    ]
                },
                {
                    "name": "stderr",
                    "output_type": "stream",
                    "text": [
                        "100%|██████████| 540/540 [01:06<00:00,  8.07it/s, MSE=0.0205] \n",
                        "999it [00:13, 74.66it/s]\n",
                        "\u001b[34m\u001b[1mwandb\u001b[0m: \u001b[33mWARNING\u001b[0m Symlinked 0 file into the W&B run directory, call wandb.save again to sync new files.\n"
                    ]
                },
                {
                    "name": "stdout",
                    "output_type": "stream",
                    "text": [
                        "Starting epoch 9:\n"
                    ]
                },
                {
                    "name": "stderr",
                    "output_type": "stream",
                    "text": [
                        "100%|██████████| 540/540 [01:07<00:00,  8.02it/s, MSE=0.0212] \n",
                        "999it [00:13, 74.11it/s]\n",
                        "\u001b[34m\u001b[1mwandb\u001b[0m: \u001b[33mWARNING\u001b[0m Symlinked 0 file into the W&B run directory, call wandb.save again to sync new files.\n"
                    ]
                },
                {
                    "name": "stdout",
                    "output_type": "stream",
                    "text": [
                        "Starting epoch 10:\n"
                    ]
                },
                {
                    "name": "stderr",
                    "output_type": "stream",
                    "text": [
                        "100%|██████████| 540/540 [01:07<00:00,  8.02it/s, MSE=0.0327] \n",
                        "999it [00:13, 74.68it/s]\n",
                        "\u001b[34m\u001b[1mwandb\u001b[0m: \u001b[33mWARNING\u001b[0m Symlinked 0 file into the W&B run directory, call wandb.save again to sync new files.\n"
                    ]
                },
                {
                    "name": "stdout",
                    "output_type": "stream",
                    "text": [
                        "Starting epoch 11:\n"
                    ]
                },
                {
                    "name": "stderr",
                    "output_type": "stream",
                    "text": [
                        "100%|██████████| 540/540 [01:07<00:00,  8.00it/s, MSE=0.0552] \n",
                        "999it [00:13, 74.05it/s]\n",
                        "\u001b[34m\u001b[1mwandb\u001b[0m: \u001b[33mWARNING\u001b[0m Symlinked 0 file into the W&B run directory, call wandb.save again to sync new files.\n"
                    ]
                },
                {
                    "name": "stdout",
                    "output_type": "stream",
                    "text": [
                        "Starting epoch 12:\n"
                    ]
                },
                {
                    "name": "stderr",
                    "output_type": "stream",
                    "text": [
                        "100%|██████████| 540/540 [01:07<00:00,  8.06it/s, MSE=0.0249] \n",
                        "999it [00:13, 74.57it/s]\n",
                        "\u001b[34m\u001b[1mwandb\u001b[0m: \u001b[33mWARNING\u001b[0m Symlinked 0 file into the W&B run directory, call wandb.save again to sync new files.\n"
                    ]
                },
                {
                    "name": "stdout",
                    "output_type": "stream",
                    "text": [
                        "Starting epoch 13:\n"
                    ]
                },
                {
                    "name": "stderr",
                    "output_type": "stream",
                    "text": [
                        "100%|██████████| 540/540 [01:07<00:00,  7.99it/s, MSE=0.0408] \n",
                        "999it [00:13, 74.65it/s]\n",
                        "\u001b[34m\u001b[1mwandb\u001b[0m: \u001b[33mWARNING\u001b[0m Symlinked 0 file into the W&B run directory, call wandb.save again to sync new files.\n"
                    ]
                },
                {
                    "name": "stdout",
                    "output_type": "stream",
                    "text": [
                        "Starting epoch 14:\n"
                    ]
                },
                {
                    "name": "stderr",
                    "output_type": "stream",
                    "text": [
                        "100%|██████████| 540/540 [01:07<00:00,  8.02it/s, MSE=0.0222] \n",
                        "999it [00:13, 73.59it/s]\n",
                        "\u001b[34m\u001b[1mwandb\u001b[0m: \u001b[33mWARNING\u001b[0m Symlinked 0 file into the W&B run directory, call wandb.save again to sync new files.\n"
                    ]
                },
                {
                    "name": "stdout",
                    "output_type": "stream",
                    "text": [
                        "Starting epoch 15:\n"
                    ]
                },
                {
                    "name": "stderr",
                    "output_type": "stream",
                    "text": [
                        "100%|██████████| 540/540 [01:07<00:00,  7.99it/s, MSE=0.0473] \n",
                        "999it [00:13, 74.58it/s]\n",
                        "\u001b[34m\u001b[1mwandb\u001b[0m: \u001b[33mWARNING\u001b[0m Symlinked 0 file into the W&B run directory, call wandb.save again to sync new files.\n"
                    ]
                },
                {
                    "name": "stdout",
                    "output_type": "stream",
                    "text": [
                        "Starting epoch 16:\n"
                    ]
                },
                {
                    "name": "stderr",
                    "output_type": "stream",
                    "text": [
                        "100%|██████████| 540/540 [01:07<00:00,  7.97it/s, MSE=0.00226]\n",
                        "999it [00:13, 73.89it/s]\n",
                        "\u001b[34m\u001b[1mwandb\u001b[0m: \u001b[33mWARNING\u001b[0m Symlinked 0 file into the W&B run directory, call wandb.save again to sync new files.\n"
                    ]
                },
                {
                    "name": "stdout",
                    "output_type": "stream",
                    "text": [
                        "Starting epoch 17:\n"
                    ]
                },
                {
                    "name": "stderr",
                    "output_type": "stream",
                    "text": [
                        "100%|██████████| 540/540 [01:07<00:00,  8.04it/s, MSE=0.0343] \n",
                        "999it [00:13, 74.45it/s]\n",
                        "\u001b[34m\u001b[1mwandb\u001b[0m: \u001b[33mWARNING\u001b[0m Symlinked 0 file into the W&B run directory, call wandb.save again to sync new files.\n"
                    ]
                },
                {
                    "name": "stdout",
                    "output_type": "stream",
                    "text": [
                        "Starting epoch 18:\n"
                    ]
                },
                {
                    "name": "stderr",
                    "output_type": "stream",
                    "text": [
                        "100%|██████████| 540/540 [01:08<00:00,  7.92it/s, MSE=0.0259] \n",
                        "999it [00:13, 74.46it/s]\n",
                        "\u001b[34m\u001b[1mwandb\u001b[0m: \u001b[33mWARNING\u001b[0m Symlinked 0 file into the W&B run directory, call wandb.save again to sync new files.\n"
                    ]
                },
                {
                    "name": "stdout",
                    "output_type": "stream",
                    "text": [
                        "Starting epoch 19:\n"
                    ]
                },
                {
                    "name": "stderr",
                    "output_type": "stream",
                    "text": [
                        "100%|██████████| 540/540 [01:07<00:00,  8.01it/s, MSE=0.0195] \n",
                        "999it [00:13, 73.96it/s]\n",
                        "\u001b[34m\u001b[1mwandb\u001b[0m: \u001b[33mWARNING\u001b[0m Symlinked 0 file into the W&B run directory, call wandb.save again to sync new files.\n"
                    ]
                },
                {
                    "name": "stdout",
                    "output_type": "stream",
                    "text": [
                        "Starting epoch 20:\n"
                    ]
                },
                {
                    "name": "stderr",
                    "output_type": "stream",
                    "text": [
                        "100%|██████████| 540/540 [01:07<00:00,  8.02it/s, MSE=0.0117] \n",
                        "999it [00:13, 74.47it/s]\n",
                        "\u001b[34m\u001b[1mwandb\u001b[0m: \u001b[33mWARNING\u001b[0m Symlinked 0 file into the W&B run directory, call wandb.save again to sync new files.\n"
                    ]
                },
                {
                    "name": "stdout",
                    "output_type": "stream",
                    "text": [
                        "Starting epoch 21:\n"
                    ]
                },
                {
                    "name": "stderr",
                    "output_type": "stream",
                    "text": [
                        "100%|██████████| 540/540 [01:07<00:00,  7.98it/s, MSE=0.0703] \n",
                        "999it [00:13, 73.73it/s]\n",
                        "\u001b[34m\u001b[1mwandb\u001b[0m: \u001b[33mWARNING\u001b[0m Symlinked 0 file into the W&B run directory, call wandb.save again to sync new files.\n"
                    ]
                },
                {
                    "name": "stdout",
                    "output_type": "stream",
                    "text": [
                        "Starting epoch 22:\n"
                    ]
                },
                {
                    "name": "stderr",
                    "output_type": "stream",
                    "text": [
                        "100%|██████████| 540/540 [01:07<00:00,  8.02it/s, MSE=0.00697]\n",
                        "999it [00:13, 74.59it/s]\n",
                        "\u001b[34m\u001b[1mwandb\u001b[0m: \u001b[33mWARNING\u001b[0m Symlinked 0 file into the W&B run directory, call wandb.save again to sync new files.\n"
                    ]
                },
                {
                    "name": "stdout",
                    "output_type": "stream",
                    "text": [
                        "Starting epoch 23:\n"
                    ]
                },
                {
                    "name": "stderr",
                    "output_type": "stream",
                    "text": [
                        "100%|██████████| 540/540 [01:07<00:00,  7.99it/s, MSE=0.0225] \n",
                        "999it [00:13, 73.90it/s]\n",
                        "\u001b[34m\u001b[1mwandb\u001b[0m: \u001b[33mWARNING\u001b[0m Symlinked 0 file into the W&B run directory, call wandb.save again to sync new files.\n"
                    ]
                },
                {
                    "name": "stdout",
                    "output_type": "stream",
                    "text": [
                        "Starting epoch 24:\n"
                    ]
                },
                {
                    "name": "stderr",
                    "output_type": "stream",
                    "text": [
                        "100%|██████████| 540/540 [01:07<00:00,  7.98it/s, MSE=0.00975]\n",
                        "999it [00:13, 74.56it/s]\n",
                        "\u001b[34m\u001b[1mwandb\u001b[0m: \u001b[33mWARNING\u001b[0m Symlinked 0 file into the W&B run directory, call wandb.save again to sync new files.\n"
                    ]
                },
                {
                    "name": "stdout",
                    "output_type": "stream",
                    "text": [
                        "Starting epoch 25:\n"
                    ]
                },
                {
                    "name": "stderr",
                    "output_type": "stream",
                    "text": [
                        "100%|██████████| 540/540 [01:07<00:00,  7.97it/s, MSE=0.00832]\n",
                        "999it [00:13, 74.53it/s]\n",
                        "\u001b[34m\u001b[1mwandb\u001b[0m: \u001b[33mWARNING\u001b[0m Symlinked 0 file into the W&B run directory, call wandb.save again to sync new files.\n"
                    ]
                },
                {
                    "name": "stdout",
                    "output_type": "stream",
                    "text": [
                        "Starting epoch 26:\n"
                    ]
                },
                {
                    "name": "stderr",
                    "output_type": "stream",
                    "text": [
                        "100%|██████████| 540/540 [01:07<00:00,  7.98it/s, MSE=0.0253] \n",
                        "999it [00:13, 73.64it/s]\n",
                        "\u001b[34m\u001b[1mwandb\u001b[0m: \u001b[33mWARNING\u001b[0m Symlinked 0 file into the W&B run directory, call wandb.save again to sync new files.\n"
                    ]
                },
                {
                    "name": "stdout",
                    "output_type": "stream",
                    "text": [
                        "Starting epoch 27:\n"
                    ]
                },
                {
                    "name": "stderr",
                    "output_type": "stream",
                    "text": [
                        "100%|██████████| 540/540 [01:06<00:00,  8.08it/s, MSE=0.0137] \n",
                        "999it [00:13, 74.50it/s]\n",
                        "\u001b[34m\u001b[1mwandb\u001b[0m: \u001b[33mWARNING\u001b[0m Symlinked 0 file into the W&B run directory, call wandb.save again to sync new files.\n"
                    ]
                },
                {
                    "name": "stdout",
                    "output_type": "stream",
                    "text": [
                        "Starting epoch 28:\n"
                    ]
                },
                {
                    "name": "stderr",
                    "output_type": "stream",
                    "text": [
                        "100%|██████████| 540/540 [01:06<00:00,  8.06it/s, MSE=0.0108] \n",
                        "999it [00:13, 74.05it/s]\n",
                        "\u001b[34m\u001b[1mwandb\u001b[0m: \u001b[33mWARNING\u001b[0m Symlinked 0 file into the W&B run directory, call wandb.save again to sync new files.\n"
                    ]
                },
                {
                    "name": "stdout",
                    "output_type": "stream",
                    "text": [
                        "Starting epoch 29:\n"
                    ]
                },
                {
                    "name": "stderr",
                    "output_type": "stream",
                    "text": [
                        "100%|██████████| 540/540 [01:07<00:00,  8.03it/s, MSE=0.0266] \n",
                        "999it [00:13, 74.50it/s]\n",
                        "\u001b[34m\u001b[1mwandb\u001b[0m: \u001b[33mWARNING\u001b[0m Symlinked 0 file into the W&B run directory, call wandb.save again to sync new files.\n"
                    ]
                },
                {
                    "name": "stdout",
                    "output_type": "stream",
                    "text": [
                        "Starting epoch 30:\n"
                    ]
                },
                {
                    "name": "stderr",
                    "output_type": "stream",
                    "text": [
                        "100%|██████████| 540/540 [01:07<00:00,  8.01it/s, MSE=0.0395] \n",
                        "999it [00:13, 74.03it/s]\n",
                        "\u001b[34m\u001b[1mwandb\u001b[0m: \u001b[33mWARNING\u001b[0m Symlinked 0 file into the W&B run directory, call wandb.save again to sync new files.\n"
                    ]
                },
                {
                    "name": "stdout",
                    "output_type": "stream",
                    "text": [
                        "Starting epoch 31:\n"
                    ]
                },
                {
                    "name": "stderr",
                    "output_type": "stream",
                    "text": [
                        "100%|██████████| 540/540 [01:07<00:00,  8.04it/s, MSE=0.0101] \n",
                        "999it [00:13, 74.56it/s]\n",
                        "\u001b[34m\u001b[1mwandb\u001b[0m: \u001b[33mWARNING\u001b[0m Symlinked 0 file into the W&B run directory, call wandb.save again to sync new files.\n"
                    ]
                },
                {
                    "name": "stdout",
                    "output_type": "stream",
                    "text": [
                        "Starting epoch 32:\n"
                    ]
                },
                {
                    "name": "stderr",
                    "output_type": "stream",
                    "text": [
                        "100%|██████████| 540/540 [01:07<00:00,  7.98it/s, MSE=0.0612] \n",
                        "999it [00:13, 74.48it/s]\n",
                        "\u001b[34m\u001b[1mwandb\u001b[0m: \u001b[33mWARNING\u001b[0m Symlinked 0 file into the W&B run directory, call wandb.save again to sync new files.\n"
                    ]
                },
                {
                    "name": "stdout",
                    "output_type": "stream",
                    "text": [
                        "Starting epoch 33:\n"
                    ]
                },
                {
                    "name": "stderr",
                    "output_type": "stream",
                    "text": [
                        "100%|██████████| 540/540 [01:07<00:00,  8.00it/s, MSE=0.02]   \n",
                        "999it [00:13, 74.08it/s]\n",
                        "\u001b[34m\u001b[1mwandb\u001b[0m: \u001b[33mWARNING\u001b[0m Symlinked 0 file into the W&B run directory, call wandb.save again to sync new files.\n"
                    ]
                },
                {
                    "name": "stdout",
                    "output_type": "stream",
                    "text": [
                        "Starting epoch 34:\n"
                    ]
                },
                {
                    "name": "stderr",
                    "output_type": "stream",
                    "text": [
                        "100%|██████████| 540/540 [01:07<00:00,  7.99it/s, MSE=0.0195] \n",
                        "999it [00:13, 74.53it/s]\n",
                        "\u001b[34m\u001b[1mwandb\u001b[0m: \u001b[33mWARNING\u001b[0m Symlinked 0 file into the W&B run directory, call wandb.save again to sync new files.\n"
                    ]
                },
                {
                    "name": "stdout",
                    "output_type": "stream",
                    "text": [
                        "Starting epoch 35:\n"
                    ]
                },
                {
                    "name": "stderr",
                    "output_type": "stream",
                    "text": [
                        "100%|██████████| 540/540 [01:07<00:00,  7.99it/s, MSE=0.0673] \n",
                        "999it [00:13, 73.91it/s]\n",
                        "\u001b[34m\u001b[1mwandb\u001b[0m: \u001b[33mWARNING\u001b[0m Symlinked 0 file into the W&B run directory, call wandb.save again to sync new files.\n"
                    ]
                },
                {
                    "name": "stdout",
                    "output_type": "stream",
                    "text": [
                        "Starting epoch 36:\n"
                    ]
                },
                {
                    "name": "stderr",
                    "output_type": "stream",
                    "text": [
                        "100%|██████████| 540/540 [01:07<00:00,  7.98it/s, MSE=0.0453] \n",
                        "999it [00:13, 74.15it/s]\n",
                        "\u001b[34m\u001b[1mwandb\u001b[0m: \u001b[33mWARNING\u001b[0m Symlinked 0 file into the W&B run directory, call wandb.save again to sync new files.\n"
                    ]
                },
                {
                    "name": "stdout",
                    "output_type": "stream",
                    "text": [
                        "Starting epoch 37:\n"
                    ]
                },
                {
                    "name": "stderr",
                    "output_type": "stream",
                    "text": [
                        "100%|██████████| 540/540 [01:07<00:00,  7.99it/s, MSE=0.0142] \n",
                        "999it [00:13, 73.89it/s]\n",
                        "\u001b[34m\u001b[1mwandb\u001b[0m: \u001b[33mWARNING\u001b[0m Symlinked 0 file into the W&B run directory, call wandb.save again to sync new files.\n"
                    ]
                },
                {
                    "name": "stdout",
                    "output_type": "stream",
                    "text": [
                        "Starting epoch 38:\n"
                    ]
                },
                {
                    "name": "stderr",
                    "output_type": "stream",
                    "text": [
                        "100%|██████████| 540/540 [01:07<00:00,  8.04it/s, MSE=0.0608] \n",
                        "999it [00:13, 74.57it/s]\n",
                        "\u001b[34m\u001b[1mwandb\u001b[0m: \u001b[33mWARNING\u001b[0m Symlinked 0 file into the W&B run directory, call wandb.save again to sync new files.\n"
                    ]
                },
                {
                    "name": "stdout",
                    "output_type": "stream",
                    "text": [
                        "Starting epoch 39:\n"
                    ]
                },
                {
                    "name": "stderr",
                    "output_type": "stream",
                    "text": [
                        "100%|██████████| 540/540 [01:07<00:00,  7.98it/s, MSE=0.00979]\n",
                        "999it [00:13, 74.66it/s]\n",
                        "\u001b[34m\u001b[1mwandb\u001b[0m: \u001b[33mWARNING\u001b[0m Symlinked 0 file into the W&B run directory, call wandb.save again to sync new files.\n"
                    ]
                },
                {
                    "name": "stdout",
                    "output_type": "stream",
                    "text": [
                        "Starting epoch 40:\n"
                    ]
                },
                {
                    "name": "stderr",
                    "output_type": "stream",
                    "text": [
                        "100%|██████████| 540/540 [01:06<00:00,  8.06it/s, MSE=0.0184] \n",
                        "999it [00:13, 74.08it/s]\n",
                        "\u001b[34m\u001b[1mwandb\u001b[0m: \u001b[33mWARNING\u001b[0m Symlinked 0 file into the W&B run directory, call wandb.save again to sync new files.\n"
                    ]
                },
                {
                    "name": "stdout",
                    "output_type": "stream",
                    "text": [
                        "Starting epoch 41:\n"
                    ]
                },
                {
                    "name": "stderr",
                    "output_type": "stream",
                    "text": [
                        "100%|██████████| 540/540 [01:07<00:00,  8.03it/s, MSE=0.0124] \n",
                        "999it [00:13, 74.61it/s]\n",
                        "\u001b[34m\u001b[1mwandb\u001b[0m: \u001b[33mWARNING\u001b[0m Symlinked 0 file into the W&B run directory, call wandb.save again to sync new files.\n"
                    ]
                },
                {
                    "name": "stdout",
                    "output_type": "stream",
                    "text": [
                        "Starting epoch 42:\n"
                    ]
                },
                {
                    "name": "stderr",
                    "output_type": "stream",
                    "text": [
                        "100%|██████████| 540/540 [01:07<00:00,  8.00it/s, MSE=0.00615]\n",
                        "999it [00:13, 73.99it/s]\n",
                        "\u001b[34m\u001b[1mwandb\u001b[0m: \u001b[33mWARNING\u001b[0m Symlinked 0 file into the W&B run directory, call wandb.save again to sync new files.\n"
                    ]
                },
                {
                    "name": "stdout",
                    "output_type": "stream",
                    "text": [
                        "Starting epoch 43:\n"
                    ]
                },
                {
                    "name": "stderr",
                    "output_type": "stream",
                    "text": [
                        "100%|██████████| 540/540 [01:07<00:00,  8.03it/s, MSE=0.01]   \n",
                        "999it [00:13, 74.53it/s]\n",
                        "\u001b[34m\u001b[1mwandb\u001b[0m: \u001b[33mWARNING\u001b[0m Symlinked 0 file into the W&B run directory, call wandb.save again to sync new files.\n"
                    ]
                },
                {
                    "name": "stdout",
                    "output_type": "stream",
                    "text": [
                        "Starting epoch 44:\n"
                    ]
                },
                {
                    "name": "stderr",
                    "output_type": "stream",
                    "text": [
                        "100%|██████████| 540/540 [01:07<00:00,  8.02it/s, MSE=0.00744]\n",
                        "999it [00:13, 73.78it/s]\n",
                        "\u001b[34m\u001b[1mwandb\u001b[0m: \u001b[33mWARNING\u001b[0m Symlinked 0 file into the W&B run directory, call wandb.save again to sync new files.\n"
                    ]
                },
                {
                    "name": "stdout",
                    "output_type": "stream",
                    "text": [
                        "Starting epoch 45:\n"
                    ]
                },
                {
                    "name": "stderr",
                    "output_type": "stream",
                    "text": [
                        "100%|██████████| 540/540 [01:06<00:00,  8.06it/s, MSE=0.00941]\n",
                        "999it [00:13, 74.33it/s]\n",
                        "\u001b[34m\u001b[1mwandb\u001b[0m: \u001b[33mWARNING\u001b[0m Symlinked 0 file into the W&B run directory, call wandb.save again to sync new files.\n"
                    ]
                },
                {
                    "name": "stdout",
                    "output_type": "stream",
                    "text": [
                        "Starting epoch 46:\n"
                    ]
                },
                {
                    "name": "stderr",
                    "output_type": "stream",
                    "text": [
                        "100%|██████████| 540/540 [01:08<00:00,  7.89it/s, MSE=0.026]  \n",
                        "999it [00:13, 74.47it/s]\n",
                        "\u001b[34m\u001b[1mwandb\u001b[0m: \u001b[33mWARNING\u001b[0m Symlinked 0 file into the W&B run directory, call wandb.save again to sync new files.\n"
                    ]
                },
                {
                    "name": "stdout",
                    "output_type": "stream",
                    "text": [
                        "Starting epoch 47:\n"
                    ]
                },
                {
                    "name": "stderr",
                    "output_type": "stream",
                    "text": [
                        "100%|██████████| 540/540 [01:07<00:00,  7.95it/s, MSE=0.0287] \n",
                        "999it [00:13, 73.91it/s]\n",
                        "\u001b[34m\u001b[1mwandb\u001b[0m: \u001b[33mWARNING\u001b[0m Symlinked 0 file into the W&B run directory, call wandb.save again to sync new files.\n"
                    ]
                },
                {
                    "name": "stdout",
                    "output_type": "stream",
                    "text": [
                        "Starting epoch 48:\n"
                    ]
                },
                {
                    "name": "stderr",
                    "output_type": "stream",
                    "text": [
                        "100%|██████████| 540/540 [01:07<00:00,  7.97it/s, MSE=0.103]  \n",
                        "999it [00:13, 74.55it/s]\n",
                        "\u001b[34m\u001b[1mwandb\u001b[0m: \u001b[33mWARNING\u001b[0m Symlinked 0 file into the W&B run directory, call wandb.save again to sync new files.\n"
                    ]
                },
                {
                    "name": "stdout",
                    "output_type": "stream",
                    "text": [
                        "Starting epoch 49:\n"
                    ]
                },
                {
                    "name": "stderr",
                    "output_type": "stream",
                    "text": [
                        "100%|██████████| 540/540 [01:07<00:00,  8.01it/s, MSE=0.0177] \n",
                        "999it [00:13, 73.90it/s]\n",
                        "\u001b[34m\u001b[1mwandb\u001b[0m: \u001b[33mWARNING\u001b[0m Symlinked 0 file into the W&B run directory, call wandb.save again to sync new files.\n"
                    ]
                },
                {
                    "name": "stdout",
                    "output_type": "stream",
                    "text": [
                        "Starting epoch 50:\n"
                    ]
                },
                {
                    "name": "stderr",
                    "output_type": "stream",
                    "text": [
                        "100%|██████████| 540/540 [01:07<00:00,  7.98it/s, MSE=0.00752]\n",
                        "999it [00:13, 74.38it/s]\n",
                        "\u001b[34m\u001b[1mwandb\u001b[0m: \u001b[33mWARNING\u001b[0m Symlinked 0 file into the W&B run directory, call wandb.save again to sync new files.\n"
                    ]
                },
                {
                    "name": "stdout",
                    "output_type": "stream",
                    "text": [
                        "Starting epoch 51:\n"
                    ]
                },
                {
                    "name": "stderr",
                    "output_type": "stream",
                    "text": [
                        "100%|██████████| 540/540 [01:07<00:00,  7.99it/s, MSE=0.101]  \n",
                        "999it [00:13, 74.00it/s]\n",
                        "\u001b[34m\u001b[1mwandb\u001b[0m: \u001b[33mWARNING\u001b[0m Symlinked 0 file into the W&B run directory, call wandb.save again to sync new files.\n"
                    ]
                },
                {
                    "name": "stdout",
                    "output_type": "stream",
                    "text": [
                        "Starting epoch 52:\n"
                    ]
                },
                {
                    "name": "stderr",
                    "output_type": "stream",
                    "text": [
                        "100%|██████████| 540/540 [01:07<00:00,  7.99it/s, MSE=0.00876]\n",
                        "999it [00:13, 74.19it/s]\n",
                        "\u001b[34m\u001b[1mwandb\u001b[0m: \u001b[33mWARNING\u001b[0m Symlinked 0 file into the W&B run directory, call wandb.save again to sync new files.\n"
                    ]
                },
                {
                    "name": "stdout",
                    "output_type": "stream",
                    "text": [
                        "Starting epoch 53:\n"
                    ]
                },
                {
                    "name": "stderr",
                    "output_type": "stream",
                    "text": [
                        "100%|██████████| 540/540 [01:07<00:00,  8.03it/s, MSE=0.0316] \n",
                        "999it [00:13, 74.60it/s]\n",
                        "\u001b[34m\u001b[1mwandb\u001b[0m: \u001b[33mWARNING\u001b[0m Symlinked 0 file into the W&B run directory, call wandb.save again to sync new files.\n"
                    ]
                },
                {
                    "name": "stdout",
                    "output_type": "stream",
                    "text": [
                        "Starting epoch 54:\n"
                    ]
                },
                {
                    "name": "stderr",
                    "output_type": "stream",
                    "text": [
                        "100%|██████████| 540/540 [01:06<00:00,  8.06it/s, MSE=0.0154] \n",
                        "999it [00:13, 74.22it/s]\n",
                        "\u001b[34m\u001b[1mwandb\u001b[0m: \u001b[33mWARNING\u001b[0m Symlinked 0 file into the W&B run directory, call wandb.save again to sync new files.\n"
                    ]
                },
                {
                    "name": "stdout",
                    "output_type": "stream",
                    "text": [
                        "Starting epoch 55:\n"
                    ]
                },
                {
                    "name": "stderr",
                    "output_type": "stream",
                    "text": [
                        "100%|██████████| 540/540 [01:06<00:00,  8.06it/s, MSE=0.0397] \n",
                        "999it [00:13, 74.42it/s]\n",
                        "\u001b[34m\u001b[1mwandb\u001b[0m: \u001b[33mWARNING\u001b[0m Symlinked 0 file into the W&B run directory, call wandb.save again to sync new files.\n"
                    ]
                },
                {
                    "name": "stdout",
                    "output_type": "stream",
                    "text": [
                        "Starting epoch 56:\n"
                    ]
                },
                {
                    "name": "stderr",
                    "output_type": "stream",
                    "text": [
                        "100%|██████████| 540/540 [01:07<00:00,  8.04it/s, MSE=0.0145] \n",
                        "999it [00:13, 73.95it/s]\n",
                        "\u001b[34m\u001b[1mwandb\u001b[0m: \u001b[33mWARNING\u001b[0m Symlinked 0 file into the W&B run directory, call wandb.save again to sync new files.\n"
                    ]
                },
                {
                    "name": "stdout",
                    "output_type": "stream",
                    "text": [
                        "Starting epoch 57:\n"
                    ]
                },
                {
                    "name": "stderr",
                    "output_type": "stream",
                    "text": [
                        "100%|██████████| 540/540 [01:07<00:00,  8.03it/s, MSE=0.0121] \n",
                        "999it [00:13, 74.55it/s]\n",
                        "\u001b[34m\u001b[1mwandb\u001b[0m: \u001b[33mWARNING\u001b[0m Symlinked 0 file into the W&B run directory, call wandb.save again to sync new files.\n"
                    ]
                },
                {
                    "name": "stdout",
                    "output_type": "stream",
                    "text": [
                        "Starting epoch 58:\n"
                    ]
                },
                {
                    "name": "stderr",
                    "output_type": "stream",
                    "text": [
                        "100%|██████████| 540/540 [01:07<00:00,  8.01it/s, MSE=0.0174] \n",
                        "999it [00:13, 74.14it/s]\n",
                        "\u001b[34m\u001b[1mwandb\u001b[0m: \u001b[33mWARNING\u001b[0m Symlinked 0 file into the W&B run directory, call wandb.save again to sync new files.\n"
                    ]
                },
                {
                    "name": "stdout",
                    "output_type": "stream",
                    "text": [
                        "Starting epoch 59:\n"
                    ]
                },
                {
                    "name": "stderr",
                    "output_type": "stream",
                    "text": [
                        "100%|██████████| 540/540 [01:07<00:00,  8.01it/s, MSE=0.00426]\n",
                        "999it [00:13, 74.34it/s]\n",
                        "\u001b[34m\u001b[1mwandb\u001b[0m: \u001b[33mWARNING\u001b[0m Symlinked 0 file into the W&B run directory, call wandb.save again to sync new files.\n"
                    ]
                },
                {
                    "name": "stdout",
                    "output_type": "stream",
                    "text": [
                        "Starting epoch 60:\n"
                    ]
                },
                {
                    "name": "stderr",
                    "output_type": "stream",
                    "text": [
                        "100%|██████████| 540/540 [01:07<00:00,  7.98it/s, MSE=0.00669]\n",
                        "999it [00:13, 74.31it/s]\n",
                        "\u001b[34m\u001b[1mwandb\u001b[0m: \u001b[33mWARNING\u001b[0m Symlinked 0 file into the W&B run directory, call wandb.save again to sync new files.\n"
                    ]
                },
                {
                    "name": "stdout",
                    "output_type": "stream",
                    "text": [
                        "Starting epoch 61:\n"
                    ]
                },
                {
                    "name": "stderr",
                    "output_type": "stream",
                    "text": [
                        "100%|██████████| 540/540 [01:07<00:00,  7.99it/s, MSE=0.074]  \n",
                        "999it [00:13, 73.86it/s]\n",
                        "\u001b[34m\u001b[1mwandb\u001b[0m: \u001b[33mWARNING\u001b[0m Symlinked 0 file into the W&B run directory, call wandb.save again to sync new files.\n"
                    ]
                },
                {
                    "name": "stdout",
                    "output_type": "stream",
                    "text": [
                        "Starting epoch 62:\n"
                    ]
                },
                {
                    "name": "stderr",
                    "output_type": "stream",
                    "text": [
                        "100%|██████████| 540/540 [01:07<00:00,  7.96it/s, MSE=0.0196] \n",
                        "999it [00:13, 74.60it/s]\n",
                        "\u001b[34m\u001b[1mwandb\u001b[0m: \u001b[33mWARNING\u001b[0m Symlinked 0 file into the W&B run directory, call wandb.save again to sync new files.\n"
                    ]
                },
                {
                    "name": "stdout",
                    "output_type": "stream",
                    "text": [
                        "Starting epoch 63:\n"
                    ]
                },
                {
                    "name": "stderr",
                    "output_type": "stream",
                    "text": [
                        "100%|██████████| 540/540 [01:07<00:00,  7.98it/s, MSE=0.045]  \n",
                        "999it [00:13, 74.02it/s]\n",
                        "\u001b[34m\u001b[1mwandb\u001b[0m: \u001b[33mWARNING\u001b[0m Symlinked 0 file into the W&B run directory, call wandb.save again to sync new files.\n"
                    ]
                },
                {
                    "name": "stdout",
                    "output_type": "stream",
                    "text": [
                        "Starting epoch 64:\n"
                    ]
                },
                {
                    "name": "stderr",
                    "output_type": "stream",
                    "text": [
                        "100%|██████████| 540/540 [01:08<00:00,  7.90it/s, MSE=0.0383] \n",
                        "999it [00:13, 74.53it/s]\n",
                        "\u001b[34m\u001b[1mwandb\u001b[0m: \u001b[33mWARNING\u001b[0m Symlinked 0 file into the W&B run directory, call wandb.save again to sync new files.\n"
                    ]
                },
                {
                    "name": "stdout",
                    "output_type": "stream",
                    "text": [
                        "Starting epoch 65:\n"
                    ]
                },
                {
                    "name": "stderr",
                    "output_type": "stream",
                    "text": [
                        "100%|██████████| 540/540 [01:07<00:00,  7.95it/s, MSE=0.0182] \n",
                        "999it [00:13, 74.46it/s]\n",
                        "\u001b[34m\u001b[1mwandb\u001b[0m: \u001b[33mWARNING\u001b[0m Symlinked 0 file into the W&B run directory, call wandb.save again to sync new files.\n"
                    ]
                },
                {
                    "name": "stdout",
                    "output_type": "stream",
                    "text": [
                        "Starting epoch 66:\n"
                    ]
                },
                {
                    "name": "stderr",
                    "output_type": "stream",
                    "text": [
                        "100%|██████████| 540/540 [01:07<00:00,  8.02it/s, MSE=0.0111] \n",
                        "999it [00:13, 73.81it/s]\n",
                        "\u001b[34m\u001b[1mwandb\u001b[0m: \u001b[33mWARNING\u001b[0m Symlinked 0 file into the W&B run directory, call wandb.save again to sync new files.\n"
                    ]
                },
                {
                    "name": "stdout",
                    "output_type": "stream",
                    "text": [
                        "Starting epoch 67:\n"
                    ]
                },
                {
                    "name": "stderr",
                    "output_type": "stream",
                    "text": [
                        "100%|██████████| 540/540 [01:07<00:00,  7.98it/s, MSE=0.0182] \n",
                        "999it [00:13, 74.52it/s]\n",
                        "\u001b[34m\u001b[1mwandb\u001b[0m: \u001b[33mWARNING\u001b[0m Symlinked 0 file into the W&B run directory, call wandb.save again to sync new files.\n"
                    ]
                },
                {
                    "name": "stdout",
                    "output_type": "stream",
                    "text": [
                        "Starting epoch 68:\n"
                    ]
                },
                {
                    "name": "stderr",
                    "output_type": "stream",
                    "text": [
                        "100%|██████████| 540/540 [01:07<00:00,  8.03it/s, MSE=0.0111] \n",
                        "999it [00:13, 74.33it/s]\n",
                        "\u001b[34m\u001b[1mwandb\u001b[0m: \u001b[33mWARNING\u001b[0m Symlinked 0 file into the W&B run directory, call wandb.save again to sync new files.\n"
                    ]
                },
                {
                    "name": "stdout",
                    "output_type": "stream",
                    "text": [
                        "Starting epoch 69:\n"
                    ]
                },
                {
                    "name": "stderr",
                    "output_type": "stream",
                    "text": [
                        "100%|██████████| 540/540 [01:07<00:00,  8.03it/s, MSE=0.0541] \n",
                        "999it [00:13, 74.62it/s]\n",
                        "\u001b[34m\u001b[1mwandb\u001b[0m: \u001b[33mWARNING\u001b[0m Symlinked 0 file into the W&B run directory, call wandb.save again to sync new files.\n"
                    ]
                },
                {
                    "name": "stdout",
                    "output_type": "stream",
                    "text": [
                        "Starting epoch 70:\n"
                    ]
                },
                {
                    "name": "stderr",
                    "output_type": "stream",
                    "text": [
                        "100%|██████████| 540/540 [01:07<00:00,  8.01it/s, MSE=0.0573] \n",
                        "999it [00:13, 74.10it/s]\n",
                        "\u001b[34m\u001b[1mwandb\u001b[0m: \u001b[33mWARNING\u001b[0m Symlinked 0 file into the W&B run directory, call wandb.save again to sync new files.\n"
                    ]
                },
                {
                    "name": "stdout",
                    "output_type": "stream",
                    "text": [
                        "Starting epoch 71:\n"
                    ]
                },
                {
                    "name": "stderr",
                    "output_type": "stream",
                    "text": [
                        "100%|██████████| 540/540 [01:07<00:00,  8.01it/s, MSE=0.0341] \n",
                        "999it [00:13, 74.69it/s]\n",
                        "\u001b[34m\u001b[1mwandb\u001b[0m: \u001b[33mWARNING\u001b[0m Symlinked 0 file into the W&B run directory, call wandb.save again to sync new files.\n"
                    ]
                },
                {
                    "name": "stdout",
                    "output_type": "stream",
                    "text": [
                        "Starting epoch 72:\n"
                    ]
                },
                {
                    "name": "stderr",
                    "output_type": "stream",
                    "text": [
                        "100%|██████████| 540/540 [01:07<00:00,  7.95it/s, MSE=0.0267] \n",
                        "999it [00:13, 74.38it/s]\n",
                        "\u001b[34m\u001b[1mwandb\u001b[0m: \u001b[33mWARNING\u001b[0m Symlinked 0 file into the W&B run directory, call wandb.save again to sync new files.\n"
                    ]
                },
                {
                    "name": "stdout",
                    "output_type": "stream",
                    "text": [
                        "Starting epoch 73:\n"
                    ]
                },
                {
                    "name": "stderr",
                    "output_type": "stream",
                    "text": [
                        "100%|██████████| 540/540 [01:07<00:00,  7.99it/s, MSE=0.00958]\n",
                        "999it [00:13, 73.90it/s]\n",
                        "\u001b[34m\u001b[1mwandb\u001b[0m: \u001b[33mWARNING\u001b[0m Symlinked 0 file into the W&B run directory, call wandb.save again to sync new files.\n"
                    ]
                },
                {
                    "name": "stdout",
                    "output_type": "stream",
                    "text": [
                        "Starting epoch 74:\n"
                    ]
                },
                {
                    "name": "stderr",
                    "output_type": "stream",
                    "text": [
                        "100%|██████████| 540/540 [01:07<00:00,  7.96it/s, MSE=0.00802]\n",
                        "999it [00:13, 74.60it/s]\n",
                        "\u001b[34m\u001b[1mwandb\u001b[0m: \u001b[33mWARNING\u001b[0m Symlinked 0 file into the W&B run directory, call wandb.save again to sync new files.\n"
                    ]
                },
                {
                    "name": "stdout",
                    "output_type": "stream",
                    "text": [
                        "Starting epoch 75:\n"
                    ]
                },
                {
                    "name": "stderr",
                    "output_type": "stream",
                    "text": [
                        "100%|██████████| 540/540 [01:07<00:00,  7.95it/s, MSE=0.0294] \n",
                        "999it [00:13, 73.93it/s]\n",
                        "\u001b[34m\u001b[1mwandb\u001b[0m: \u001b[33mWARNING\u001b[0m Symlinked 0 file into the W&B run directory, call wandb.save again to sync new files.\n"
                    ]
                },
                {
                    "name": "stdout",
                    "output_type": "stream",
                    "text": [
                        "Starting epoch 76:\n"
                    ]
                },
                {
                    "name": "stderr",
                    "output_type": "stream",
                    "text": [
                        "100%|██████████| 540/540 [01:07<00:00,  7.97it/s, MSE=0.0195] \n",
                        "999it [00:13, 74.58it/s]\n",
                        "\u001b[34m\u001b[1mwandb\u001b[0m: \u001b[33mWARNING\u001b[0m Symlinked 0 file into the W&B run directory, call wandb.save again to sync new files.\n"
                    ]
                },
                {
                    "name": "stdout",
                    "output_type": "stream",
                    "text": [
                        "Starting epoch 77:\n"
                    ]
                },
                {
                    "name": "stderr",
                    "output_type": "stream",
                    "text": [
                        "100%|██████████| 540/540 [01:07<00:00,  7.95it/s, MSE=0.0353] \n",
                        "999it [00:13, 74.65it/s]\n",
                        "\u001b[34m\u001b[1mwandb\u001b[0m: \u001b[33mWARNING\u001b[0m Symlinked 0 file into the W&B run directory, call wandb.save again to sync new files.\n"
                    ]
                },
                {
                    "name": "stdout",
                    "output_type": "stream",
                    "text": [
                        "Starting epoch 78:\n"
                    ]
                },
                {
                    "name": "stderr",
                    "output_type": "stream",
                    "text": [
                        "100%|██████████| 540/540 [01:07<00:00,  8.06it/s, MSE=0.0496] \n",
                        "999it [00:13, 74.14it/s]\n",
                        "\u001b[34m\u001b[1mwandb\u001b[0m: \u001b[33mWARNING\u001b[0m Symlinked 0 file into the W&B run directory, call wandb.save again to sync new files.\n"
                    ]
                },
                {
                    "name": "stdout",
                    "output_type": "stream",
                    "text": [
                        "Starting epoch 79:\n"
                    ]
                },
                {
                    "name": "stderr",
                    "output_type": "stream",
                    "text": [
                        "100%|██████████| 540/540 [01:07<00:00,  8.00it/s, MSE=0.0253] \n",
                        "999it [00:13, 74.74it/s]\n",
                        "\u001b[34m\u001b[1mwandb\u001b[0m: \u001b[33mWARNING\u001b[0m Symlinked 0 file into the W&B run directory, call wandb.save again to sync new files.\n"
                    ]
                },
                {
                    "name": "stdout",
                    "output_type": "stream",
                    "text": [
                        "Starting epoch 80:\n"
                    ]
                },
                {
                    "name": "stderr",
                    "output_type": "stream",
                    "text": [
                        "100%|██████████| 540/540 [01:07<00:00,  8.00it/s, MSE=0.048]  \n",
                        "999it [00:13, 74.14it/s]\n",
                        "\u001b[34m\u001b[1mwandb\u001b[0m: \u001b[33mWARNING\u001b[0m Symlinked 0 file into the W&B run directory, call wandb.save again to sync new files.\n"
                    ]
                },
                {
                    "name": "stdout",
                    "output_type": "stream",
                    "text": [
                        "Starting epoch 81:\n"
                    ]
                },
                {
                    "name": "stderr",
                    "output_type": "stream",
                    "text": [
                        "100%|██████████| 540/540 [01:06<00:00,  8.07it/s, MSE=0.0298] \n",
                        "999it [00:13, 74.50it/s]\n",
                        "\u001b[34m\u001b[1mwandb\u001b[0m: \u001b[33mWARNING\u001b[0m Symlinked 0 file into the W&B run directory, call wandb.save again to sync new files.\n"
                    ]
                },
                {
                    "name": "stdout",
                    "output_type": "stream",
                    "text": [
                        "Starting epoch 82:\n"
                    ]
                },
                {
                    "name": "stderr",
                    "output_type": "stream",
                    "text": [
                        "100%|██████████| 540/540 [01:07<00:00,  8.05it/s, MSE=0.00972]\n",
                        "999it [00:13, 73.99it/s]\n",
                        "\u001b[34m\u001b[1mwandb\u001b[0m: \u001b[33mWARNING\u001b[0m Symlinked 0 file into the W&B run directory, call wandb.save again to sync new files.\n"
                    ]
                },
                {
                    "name": "stdout",
                    "output_type": "stream",
                    "text": [
                        "Starting epoch 83:\n"
                    ]
                },
                {
                    "name": "stderr",
                    "output_type": "stream",
                    "text": [
                        "100%|██████████| 540/540 [01:07<00:00,  8.02it/s, MSE=0.019]  \n",
                        "999it [00:13, 74.63it/s]\n",
                        "\u001b[34m\u001b[1mwandb\u001b[0m: \u001b[33mWARNING\u001b[0m Symlinked 0 file into the W&B run directory, call wandb.save again to sync new files.\n"
                    ]
                },
                {
                    "name": "stdout",
                    "output_type": "stream",
                    "text": [
                        "Starting epoch 84:\n"
                    ]
                },
                {
                    "name": "stderr",
                    "output_type": "stream",
                    "text": [
                        "100%|██████████| 540/540 [01:07<00:00,  8.00it/s, MSE=0.0596] \n",
                        "999it [00:13, 74.44it/s]\n",
                        "\u001b[34m\u001b[1mwandb\u001b[0m: \u001b[33mWARNING\u001b[0m Symlinked 0 file into the W&B run directory, call wandb.save again to sync new files.\n"
                    ]
                },
                {
                    "name": "stdout",
                    "output_type": "stream",
                    "text": [
                        "Starting epoch 85:\n"
                    ]
                },
                {
                    "name": "stderr",
                    "output_type": "stream",
                    "text": [
                        "100%|██████████| 540/540 [01:07<00:00,  8.00it/s, MSE=0.0324] \n",
                        "999it [00:13, 74.01it/s]\n",
                        "\u001b[34m\u001b[1mwandb\u001b[0m: \u001b[33mWARNING\u001b[0m Symlinked 0 file into the W&B run directory, call wandb.save again to sync new files.\n"
                    ]
                },
                {
                    "name": "stdout",
                    "output_type": "stream",
                    "text": [
                        "Starting epoch 86:\n"
                    ]
                },
                {
                    "name": "stderr",
                    "output_type": "stream",
                    "text": [
                        "100%|██████████| 540/540 [01:07<00:00,  7.95it/s, MSE=0.00503]\n",
                        "999it [00:13, 74.61it/s]\n",
                        "\u001b[34m\u001b[1mwandb\u001b[0m: \u001b[33mWARNING\u001b[0m Symlinked 0 file into the W&B run directory, call wandb.save again to sync new files.\n"
                    ]
                },
                {
                    "name": "stdout",
                    "output_type": "stream",
                    "text": [
                        "Starting epoch 87:\n"
                    ]
                },
                {
                    "name": "stderr",
                    "output_type": "stream",
                    "text": [
                        "100%|██████████| 540/540 [01:07<00:00,  8.00it/s, MSE=0.0608] \n",
                        "999it [00:13, 74.00it/s]\n",
                        "\u001b[34m\u001b[1mwandb\u001b[0m: \u001b[33mWARNING\u001b[0m Symlinked 0 file into the W&B run directory, call wandb.save again to sync new files.\n"
                    ]
                },
                {
                    "name": "stdout",
                    "output_type": "stream",
                    "text": [
                        "Starting epoch 88:\n"
                    ]
                },
                {
                    "name": "stderr",
                    "output_type": "stream",
                    "text": [
                        "100%|██████████| 540/540 [01:07<00:00,  7.97it/s, MSE=0.02]   \n",
                        "999it [00:13, 74.44it/s]\n",
                        "\u001b[34m\u001b[1mwandb\u001b[0m: \u001b[33mWARNING\u001b[0m Symlinked 0 file into the W&B run directory, call wandb.save again to sync new files.\n"
                    ]
                },
                {
                    "name": "stdout",
                    "output_type": "stream",
                    "text": [
                        "Starting epoch 89:\n"
                    ]
                },
                {
                    "name": "stderr",
                    "output_type": "stream",
                    "text": [
                        "100%|██████████| 540/540 [01:07<00:00,  7.98it/s, MSE=0.0213] \n",
                        "999it [00:13, 73.79it/s]\n",
                        "\u001b[34m\u001b[1mwandb\u001b[0m: \u001b[33mWARNING\u001b[0m Symlinked 0 file into the W&B run directory, call wandb.save again to sync new files.\n"
                    ]
                },
                {
                    "name": "stdout",
                    "output_type": "stream",
                    "text": [
                        "Starting epoch 90:\n"
                    ]
                },
                {
                    "name": "stderr",
                    "output_type": "stream",
                    "text": [
                        "100%|██████████| 540/540 [01:07<00:00,  7.95it/s, MSE=0.0351] \n",
                        "999it [00:13, 74.62it/s]\n",
                        "\u001b[34m\u001b[1mwandb\u001b[0m: \u001b[33mWARNING\u001b[0m Symlinked 0 file into the W&B run directory, call wandb.save again to sync new files.\n"
                    ]
                },
                {
                    "name": "stdout",
                    "output_type": "stream",
                    "text": [
                        "Starting epoch 91:\n"
                    ]
                },
                {
                    "name": "stderr",
                    "output_type": "stream",
                    "text": [
                        "100%|██████████| 540/540 [01:08<00:00,  7.94it/s, MSE=0.02]   \n",
                        "999it [00:13, 74.48it/s]\n",
                        "\u001b[34m\u001b[1mwandb\u001b[0m: \u001b[33mWARNING\u001b[0m Symlinked 0 file into the W&B run directory, call wandb.save again to sync new files.\n"
                    ]
                },
                {
                    "name": "stdout",
                    "output_type": "stream",
                    "text": [
                        "Starting epoch 92:\n"
                    ]
                },
                {
                    "name": "stderr",
                    "output_type": "stream",
                    "text": [
                        "100%|██████████| 540/540 [01:07<00:00,  8.03it/s, MSE=0.00416]\n",
                        "999it [00:13, 74.06it/s]\n",
                        "\u001b[34m\u001b[1mwandb\u001b[0m: \u001b[33mWARNING\u001b[0m Symlinked 0 file into the W&B run directory, call wandb.save again to sync new files.\n"
                    ]
                },
                {
                    "name": "stdout",
                    "output_type": "stream",
                    "text": [
                        "Starting epoch 93:\n"
                    ]
                },
                {
                    "name": "stderr",
                    "output_type": "stream",
                    "text": [
                        " 79%|███████▊  | 425/540 [00:52<00:14,  8.06it/s, MSE=0.0116] \n"
                    ]
                }
            ],
            "source": [
                "from torch.utils.tensorboard import SummaryWriter\n",
                "\n",
                "def train(run_name, epochs, batch_size, size, device, lr):\n",
                "    setup_logging(run_name)\n",
                "    device = device\n",
                "    dataloader = get_data(batch_size, size)\n",
                "    model = AttentionUnet().to(device)\n",
                "    optimizer = optim.AdamW(model.parameters(), lr=lr)\n",
                "    mse = nn.MSELoss()\n",
                "    diffusion = Diffusion(img_size=size, device=device)\n",
                "    logger = SummaryWriter(os.path.join(\"runs\", run_name))\n",
                "    l = len(dataloader)\n",
                "    \n",
                "    if LOAD_MODEL:\n",
                "        load_checkpoint(\n",
                "            CHECKPOINT_UNET, model, optimizer, LEARNING_RATE\n",
                "        )\n",
                "    for epoch in range(epochs):\n",
                "        print(f\"Starting epoch {epoch}:\")\n",
                "        pbar = tqdm(dataloader)\n",
                "        for i, (images) in enumerate(pbar):\n",
                "            images = images.to(device)\n",
                "            t = diffusion.sample_timesteps(images.shape[0]).to(device)\n",
                "            x_t, noise = diffusion.noise_images(images, t)\n",
                "            predicted_noise = model(x_t, t)\n",
                "            loss = mse(noise, predicted_noise)\n",
                "\n",
                "            optimizer.zero_grad()\n",
                "            loss.backward()\n",
                "            optimizer.step()\n",
                "\n",
                "            pbar.set_postfix(MSE=loss.item())\n",
                "            logger.add_scalar(\"MSE\", loss.item(), global_step=epoch * l + i)\n",
                "\n",
                "\n",
                "        sampled_images = diffusion.sample(model, n=images.shape[0])\n",
                "        save_images(sampled_images, os.path.join(\"results\", run_name, f\"{epoch}.jpg\"))\n",
                "        torch.save(model.state_dict(), os.path.join(\"models\", run_name, f\"ckpt.pt\"))\n",
                "        wandb.save('/kaggle/working/models/' + run_name + '/*pt*')\n",
                "\n",
                "def launch():\n",
                "    train(\"DDPM_Uncondtional\", NUM_EPOCHS, BATCH_SIZE, SIZE, DEVICE, LEARNING_RATE)\n",
                "\n",
                "launch()"
            ]
        }
    ],
    "metadata": {
        "kernelspec": {
            "display_name": "Python 3",
            "language": "python",
            "name": "python3"
        },
        "language_info": {
            "codemirror_mode": {
                "name": "ipython",
                "version": 3
            },
            "file_extension": ".py",
            "mimetype": "text/x-python",
            "name": "python",
            "nbconvert_exporter": "python",
            "pygments_lexer": "ipython3",
            "version": "3.10.12"
        }
    },
    "nbformat": 4,
    "nbformat_minor": 4
}