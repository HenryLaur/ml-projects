{
    "cells": [
        {
            "cell_type": "code",
            "execution_count": 1,
            "metadata": {
                "_cell_guid": "b1076dfc-b9ad-4769-8c92-a6c4dae69d19",
                "_uuid": "8f2839f25d086af736a60e9eeb907d3b93b6e0e5",
                "execution": {
                    "iopub.execute_input": "2023-07-19T16:42:31.114157Z",
                    "iopub.status.busy": "2023-07-19T16:42:31.113579Z",
                    "iopub.status.idle": "2023-07-19T16:42:34.823433Z",
                    "shell.execute_reply": "2023-07-19T16:42:34.822322Z",
                    "shell.execute_reply.started": "2023-07-19T16:42:31.114121Z"
                },
                "trusted": true
            },
            "outputs": [],
            "source": [
                "import torch\n",
                "from torch import nn"
            ]
        },
        {
            "cell_type": "code",
            "execution_count": 20,
            "metadata": {
                "execution": {
                    "iopub.execute_input": "2023-07-19T18:22:50.731062Z",
                    "iopub.status.busy": "2023-07-19T18:22:50.730665Z",
                    "iopub.status.idle": "2023-07-19T18:22:50.739646Z",
                    "shell.execute_reply": "2023-07-19T18:22:50.738669Z",
                    "shell.execute_reply.started": "2023-07-19T18:22:50.731032Z"
                },
                "trusted": true
            },
            "outputs": [],
            "source": [
                "from torchvision.utils import save_image\n",
                "import albumentations as A\n",
                "from albumentations.pytorch import ToTensorV2\n",
                "\n",
                "DEVICE = \"cuda\" if torch.cuda.is_available() else \"cpu\"\n",
                "TRAIN_DIR = \"/kaggle/input/carvana-image-masking-png/train_images/\"\n",
                "TRAIN_DIR_MASK = \"/kaggle/input/carvana-image-masking-png/train_masks/\"\n",
                "BATCH_SIZE = 16\n",
                "LEARNING_RATE = 1e-4\n",
                "NUM_WORKERS = 2\n",
                "NUM_EPOCHS = 200\n",
                "LOAD_MODEL = False\n",
                "SAVE_MODEL = True\n",
                "CHECKPOINT_UNET = \"unetres.pth.tar\"\n",
                "\n",
                "both_transform = A.Compose(\n",
                "    [A.Resize(width=256, height=256), A.HorizontalFlip(p=0.5)], additional_targets={\"image0\": \"image\"},\n",
                ")\n",
                "\n",
                "transform_only_input = A.Compose(\n",
                "    [\n",
                "        A.Normalize(mean=[0.5, 0.5, 0.5], std=[0.5, 0.5, 0.5], max_pixel_value=255.0,),\n",
                "        ToTensorV2(),\n",
                "    ]\n",
                ")\n",
                "\n",
                "transform_only_mask = A.Compose(\n",
                "    [\n",
                "        ToTensorV2(),\n",
                "    ]\n",
                ")"
            ]
        },
        {
            "cell_type": "code",
            "execution_count": 3,
            "metadata": {
                "execution": {
                    "iopub.execute_input": "2023-07-19T16:42:37.216731Z",
                    "iopub.status.busy": "2023-07-19T16:42:37.214440Z",
                    "iopub.status.idle": "2023-07-19T16:42:37.229544Z",
                    "shell.execute_reply": "2023-07-19T16:42:37.228681Z",
                    "shell.execute_reply.started": "2023-07-19T16:42:37.216677Z"
                },
                "trusted": true
            },
            "outputs": [],
            "source": [
                "from PIL import Image\n",
                "import os\n",
                "from torch.utils.data import Dataset\n",
                "import numpy as np\n",
                "\n",
                "class CarDataset(Dataset):\n",
                "    def __init__(self, root_dir, mask_dir):\n",
                "        self.root_dir = root_dir\n",
                "        self.mask_dir = mask_dir\n",
                "        self.list_file = os.listdir(self.root_dir)\n",
                "\n",
                "        \n",
                "    def __len__(self):\n",
                "        return len(self.list_file)\n",
                "    \n",
                "\n",
                "    def __getitem__(self, index):\n",
                "        img_file = self.list_file[index]\n",
                "        img_path = os.path.join(self.root_dir, img_file)\n",
                "        mask_path = os.path.join(self.mask_dir, img_file)\n",
                "        input_img = np.array(Image.open(img_path))\n",
                "        target_img = np.array(Image.open(mask_path[:-3] + \"png\"))\n",
                "        \n",
                "        augmentations = both_transform(image=input_img, image0=target_img)\n",
                "        input_img, target_img = augmentations['image'], augmentations['image0']\n",
                "        \n",
                "        input_img = transform_only_input(image=input_img)['image']\n",
                "        target_img = transform_only_mask(image=target_img)['image']\n",
                "        \n",
                "        return input_img, target_img"
            ]
        },
        {
            "cell_type": "code",
            "execution_count": 4,
            "metadata": {
                "execution": {
                    "iopub.execute_input": "2023-07-19T16:42:37.237917Z",
                    "iopub.status.busy": "2023-07-19T16:42:37.235542Z",
                    "iopub.status.idle": "2023-07-19T16:42:37.979042Z",
                    "shell.execute_reply": "2023-07-19T16:42:37.977902Z",
                    "shell.execute_reply.started": "2023-07-19T16:42:37.237883Z"
                },
                "trusted": true
            },
            "outputs": [
                {
                    "name": "stdout",
                    "output_type": "stream",
                    "text": [
                        "(tensor([  0., 255.]), tensor([44106, 21430]))\n"
                    ]
                },
                {
                    "data": {
                        "image/png": "[encoded data removed]",
                        "text/plain": [
                            "<PIL.Image.Image image mode=L size=256x256>"
                        ]
                    },
                    "execution_count": 4,
                    "metadata": {},
                    "output_type": "execute_result"
                }
            ],
            "source": [
                "from torch.utils.data import DataLoader\n",
                "te_dataset = CarDataset(root_dir=TRAIN_DIR, mask_dir=TRAIN_DIR_MASK)\n",
                "te_loader = DataLoader(te_dataset, batch_size=1, shuffle=True, num_workers=1)\n",
                "\n",
                "batch= iter(te_loader)\n",
                "images, labels = next(batch)\n",
                "import torchvision.transforms as T\n",
                "labels[0].shape\n",
                "print(torch.unique(labels[0].float() * 255, return_counts=True))\n",
                "transform = T.ToPILImage()\n",
                "transform(labels[0].float())"
            ]
        },
        {
            "cell_type": "code",
            "execution_count": 14,
            "metadata": {
                "execution": {
                    "iopub.execute_input": "2023-07-19T18:20:42.057568Z",
                    "iopub.status.busy": "2023-07-19T18:20:42.057162Z",
                    "iopub.status.idle": "2023-07-19T18:20:42.070029Z",
                    "shell.execute_reply": "2023-07-19T18:20:42.068775Z",
                    "shell.execute_reply.started": "2023-07-19T18:20:42.057532Z"
                },
                "trusted": true
            },
            "outputs": [],
            "source": [
                "import torch\n",
                "from torchvision.utils import save_image\n",
                "\n",
                "def save_some_examples(unet, val_loader, epoch, folder):\n",
                "    x, y = next(iter(val_loader))\n",
                "    x, y = x.to(DEVICE), y.to(DEVICE)\n",
                "    unet.eval()\n",
                "    with torch.no_grad():\n",
                "        y_fake = unet(x)\n",
                "        y_fake[y_fake > 0.5] = 1  # remove normalization#\n",
                "        y_fake[y_fake <= 0.5] = 0  # remove normalization#\n",
                "        save_image(y_fake, folder + f\"/y_gen_{epoch}.png\")\n",
                "        save_image(x * 0.5 + 0.5, folder + f\"/input_{epoch}.png\")\n",
                "        save_image(y.float() , folder + f\"/label_{epoch}.png\")\n",
                "    unet.train()\n",
                "\n",
                "\n",
                "def save_checkpoint(model, optimizer, filename=\"my_checkpoint.pth.tar\"):\n",
                "    print(\"=> Saving checkpoint\")\n",
                "    checkpoint = {\n",
                "        \"state_dict\": model.state_dict(),\n",
                "        \"optimizer\": optimizer.state_dict(),\n",
                "    }\n",
                "    torch.save(checkpoint, filename)\n",
                "\n",
                "\n",
                "def load_checkpoint(checkpoint_file, model, optimizer, lr):\n",
                "    print(\"=> Loading checkpoint\")\n",
                "    checkpoint = torch.load(\"/kaggle/working/\" + checkpoint_file, map_location=DEVICE)\n",
                "    model.load_state_dict(checkpoint[\"state_dict\"])\n",
                "    optimizer.load_state_dict(checkpoint[\"optimizer\"])\n",
                "    # If we don't do this then it will just have learning rate of old checkpoint\n",
                "    # and it will lead to many hours of debugging \\:\n",
                "    for param_group in optimizer.param_groups:\n",
                "        param_group[\"lr\"] = lr\n"
            ]
        },
        {
            "cell_type": "code",
            "execution_count": 6,
            "metadata": {
                "execution": {
                    "iopub.execute_input": "2023-07-19T16:42:38.019687Z",
                    "iopub.status.busy": "2023-07-19T16:42:38.017080Z",
                    "iopub.status.idle": "2023-07-19T16:42:38.872143Z",
                    "shell.execute_reply": "2023-07-19T16:42:38.871094Z",
                    "shell.execute_reply.started": "2023-07-19T16:42:38.019652Z"
                },
                "trusted": true
            },
            "outputs": [
                {
                    "name": "stdout",
                    "output_type": "stream",
                    "text": [
                        "torch.Size([5, 3, 64, 64])\n"
                    ]
                }
            ],
            "source": [
                "class BNReLU(nn.Module):\n",
                "    def __init__(self, in_channels):\n",
                "        super().__init__()\n",
                "        self.x = nn.Sequential(\n",
                "            nn.BatchNorm2d(in_channels),\n",
                "            nn.ReLU(inplace=True)\n",
                "        )\n",
                "        \n",
                "    def forward(self, x):\n",
                "        return self.x(x)\n",
                "\n",
                "class ResidualBlock(nn.Module):\n",
                "    def __init__(self, in_channels, out_channels, stride=1):\n",
                "        super().__init__()\n",
                "        \n",
                "        self.conv = nn.Sequential(\n",
                "            BNReLU(in_channels),\n",
                "            nn.Conv2d(in_channels, out_channels, 3, padding=1, stride=stride),\n",
                "            BNReLU(out_channels),\n",
                "            nn.Conv2d(out_channels, out_channels, 3, padding=1, stride=1),\n",
                "        )\n",
                "        \n",
                "        self.s = nn.Conv2d(in_channels, out_channels, 1, padding=0, stride=stride)\n",
                "    \n",
                "    def forward(self, inputs):\n",
                "        x = self.conv(inputs)\n",
                "        s = self.s(inputs)\n",
                "\n",
                "        return x + s\n",
                "        \n",
                "class DecoderBlock(nn.Module):\n",
                "    def __init__(self, in_channels, out_channels):\n",
                "        super().__init__()\n",
                "        self.upsample = nn.Upsample(scale_factor=2, mode='bilinear', align_corners=True)\n",
                "        self.res = ResidualBlock(in_channels + out_channels, out_channels)\n",
                "        \n",
                "    def forward(self, inputs, skip):\n",
                "        x = self.upsample(inputs)\n",
                "        \n",
                "        x = torch.cat([x, skip], dim=1)\n",
                "        return self.res(x)\n",
                "        \n",
                "class Resunet(nn.Module):\n",
                "    def __init__(self, in_channels, out_channels, features=64):\n",
                "        super().__init__()\n",
                "        \n",
                "        # Encoder 1\n",
                "        self.conv = nn.Conv2d(in_channels, features, 3, 1, 1)\n",
                "        self.bnr = BNReLU(features)\n",
                "        self.conv2 = nn.Conv2d(features, features, 3, 1, 1)\n",
                "        self.conv3 = nn.Conv2d(in_channels, features, 1, 1, 0)\n",
                "        \n",
                "        # Encoder 2, 3\n",
                "        self.r2 = ResidualBlock(features, features * 2, stride=2)\n",
                "        self.r3 = ResidualBlock(features* 2, features * 4, stride=2)\n",
                "        \n",
                "        # Bridge\n",
                "        self.r4 = ResidualBlock(features* 4, features * 8, stride=2)\n",
                "        \n",
                "        # Decoder\n",
                "        self.d1 = DecoderBlock(features * 8, features * 4)\n",
                "        self.d2 = DecoderBlock(features * 4, features * 2)\n",
                "        self.d3 = DecoderBlock(features * 2, features)\n",
                "        \n",
                "        self.final = nn.Conv2d(features, out_channels, kernel_size=1, padding=0)\n",
                "        \n",
                "    def forward(self, inputs):\n",
                "        x = self.conv(inputs)\n",
                "        x = self.bnr(x)\n",
                "        x = self.conv2(x)\n",
                "        s = self.conv3(inputs)\n",
                "\n",
                "        skip1 = x + s\n",
                "        \n",
                "        # Encoder 2, 3\n",
                "        skip2 = self.r2(skip1)\n",
                "        skip3 = self.r3(skip2)\n",
                "        \n",
                "        # Bridge\n",
                "        b = self.r4(skip3)\n",
                "        \n",
                "        # Decoder\n",
                "        d1 = self.d1(b, skip3)\n",
                "        d2 = self.d2(d1, skip2)\n",
                "        d3 = self.d3(d2, skip1)\n",
                "        \n",
                "        return self.final(d3)\n",
                "    \n",
                "x = torch.randn((5, 3, 64, 64))\n",
                "model = Resunet(3, 3)\n",
                "print(model(x).shape)"
            ]
        },
        {
            "cell_type": "code",
            "execution_count": 10,
            "metadata": {
                "execution": {
                    "iopub.execute_input": "2023-07-19T16:43:24.283878Z",
                    "iopub.status.busy": "2023-07-19T16:43:24.283497Z",
                    "iopub.status.idle": "2023-07-19T18:19:42.315381Z",
                    "shell.execute_reply": "2023-07-19T18:19:42.312555Z",
                    "shell.execute_reply.started": "2023-07-19T16:43:24.283845Z"
                },
                "trusted": true
            },
            "outputs": [
                {
                    "name": "stdout",
                    "output_type": "stream",
                    "text": [
                        "True\n"
                    ]
                },
                {
                    "name": "stderr",
                    "output_type": "stream",
                    "text": [
                        "100%|██████████| 255/255 [03:27<00:00,  1.23it/s, loss=0.14]  \n"
                    ]
                },
                {
                    "name": "stdout",
                    "output_type": "stream",
                    "text": [
                        "=> Saving checkpoint\n"
                    ]
                },
                {
                    "name": "stderr",
                    "output_type": "stream",
                    "text": [
                        "100%|██████████| 255/255 [02:44<00:00,  1.55it/s, loss=0.109] \n",
                        "100%|██████████| 255/255 [02:44<00:00,  1.55it/s, loss=0.105] \n",
                        "100%|██████████| 255/255 [02:43<00:00,  1.56it/s, loss=0.0914]\n",
                        "100%|██████████| 255/255 [02:43<00:00,  1.56it/s, loss=0.0886]\n",
                        "100%|██████████| 255/255 [02:43<00:00,  1.56it/s, loss=0.0744]\n"
                    ]
                },
                {
                    "name": "stdout",
                    "output_type": "stream",
                    "text": [
                        "=> Saving checkpoint\n"
                    ]
                },
                {
                    "name": "stderr",
                    "output_type": "stream",
                    "text": [
                        "100%|██████████| 255/255 [02:43<00:00,  1.56it/s, loss=0.129] \n",
                        "100%|██████████| 255/255 [02:43<00:00,  1.56it/s, loss=0.0677]\n",
                        "100%|██████████| 255/255 [02:43<00:00,  1.56it/s, loss=0.0749]\n",
                        "100%|██████████| 255/255 [02:43<00:00,  1.56it/s, loss=0.126] \n",
                        "100%|██████████| 255/255 [02:43<00:00,  1.56it/s, loss=0.118] \n"
                    ]
                },
                {
                    "name": "stdout",
                    "output_type": "stream",
                    "text": [
                        "=> Saving checkpoint\n"
                    ]
                },
                {
                    "name": "stderr",
                    "output_type": "stream",
                    "text": [
                        "100%|██████████| 255/255 [02:43<00:00,  1.56it/s, loss=0.111] \n",
                        "100%|██████████| 255/255 [02:43<00:00,  1.56it/s, loss=0.0901]\n",
                        "100%|██████████| 255/255 [02:43<00:00,  1.56it/s, loss=0.0577]\n",
                        "100%|██████████| 255/255 [02:43<00:00,  1.56it/s, loss=0.0747]\n",
                        "100%|██████████| 255/255 [02:43<00:00,  1.56it/s, loss=0.0553]\n"
                    ]
                },
                {
                    "name": "stdout",
                    "output_type": "stream",
                    "text": [
                        "=> Saving checkpoint\n"
                    ]
                },
                {
                    "name": "stderr",
                    "output_type": "stream",
                    "text": [
                        "100%|██████████| 255/255 [02:43<00:00,  1.56it/s, loss=0.0638]\n",
                        "100%|██████████| 255/255 [02:44<00:00,  1.55it/s, loss=0.0656]\n",
                        "100%|██████████| 255/255 [02:44<00:00,  1.55it/s, loss=0.0534]\n",
                        "100%|██████████| 255/255 [02:43<00:00,  1.56it/s, loss=0.0396]\n",
                        "100%|██████████| 255/255 [02:43<00:00,  1.55it/s, loss=0.0464]\n"
                    ]
                },
                {
                    "name": "stdout",
                    "output_type": "stream",
                    "text": [
                        "=> Saving checkpoint\n"
                    ]
                },
                {
                    "name": "stderr",
                    "output_type": "stream",
                    "text": [
                        "100%|██████████| 255/255 [02:43<00:00,  1.56it/s, loss=0.0731]\n",
                        "100%|██████████| 255/255 [02:43<00:00,  1.56it/s, loss=0.0433]\n",
                        "100%|██████████| 255/255 [02:43<00:00,  1.55it/s, loss=0.0564]\n",
                        "100%|██████████| 255/255 [02:43<00:00,  1.56it/s, loss=0.0446]\n",
                        "100%|██████████| 255/255 [02:43<00:00,  1.56it/s, loss=0.0321]\n"
                    ]
                },
                {
                    "name": "stdout",
                    "output_type": "stream",
                    "text": [
                        "=> Saving checkpoint\n"
                    ]
                },
                {
                    "name": "stderr",
                    "output_type": "stream",
                    "text": [
                        "100%|██████████| 255/255 [02:43<00:00,  1.56it/s, loss=0.0546]\n",
                        "100%|██████████| 255/255 [02:43<00:00,  1.56it/s, loss=0.0529]\n",
                        "100%|██████████| 255/255 [02:43<00:00,  1.56it/s, loss=0.0443]\n",
                        "100%|██████████| 255/255 [02:43<00:00,  1.56it/s, loss=0.0504]\n",
                        "100%|██████████| 255/255 [02:43<00:00,  1.56it/s, loss=0.0376]\n"
                    ]
                },
                {
                    "name": "stdout",
                    "output_type": "stream",
                    "text": [
                        "=> Saving checkpoint\n"
                    ]
                },
                {
                    "name": "stderr",
                    "output_type": "stream",
                    "text": [
                        "100%|██████████| 255/255 [02:43<00:00,  1.56it/s, loss=0.0518]\n",
                        "100%|██████████| 255/255 [02:43<00:00,  1.56it/s, loss=0.0264]\n",
                        "100%|██████████| 255/255 [02:44<00:00,  1.55it/s, loss=0.0245]\n",
                        " 89%|████████▉ | 228/255 [02:26<00:17,  1.56it/s, loss=0.0283]\n"
                    ]
                }
            ],
            "source": [
                "import torch\n",
                "import torch.nn as nn\n",
                "import torch.optim as optim\n",
                "from torch.utils.data import DataLoader\n",
                "from tqdm import tqdm\n",
                "from torchvision.utils import save_image\n",
                "print(SAVE_MODEL)\n",
                "torch.backends.cudnn.benchmark = True\n",
                "\n",
                "def train_fn(unet, train_loader, opt, loss_fn, scaler):\n",
                "    loop = tqdm(train_loader, leave=True)\n",
                "    \n",
                "    for idx, (x, y) in enumerate(loop):\n",
                "        x, y = x.to(DEVICE), y.float().to(DEVICE)\n",
                "        \n",
                "        #Train Discriminator\n",
                "        with torch.cuda.amp.autocast():\n",
                "            segment = unet(x)\n",
                "            loss = loss_fn(segment, y)\n",
                "        opt.zero_grad()\n",
                "        scaler.scale(loss).backward()\n",
                "        scaler.step(opt)\n",
                "        scaler.update()\n",
                "        loop.set_postfix(loss=loss.item())\n",
                "\n",
                "        \n",
                "        \n",
                "def main():\n",
                "    unet = Resunet(in_channels=3, out_channels=1).to(DEVICE)\n",
                "    opt=optim.Adam(unet.parameters(), lr=LEARNING_RATE)\n",
                "    \n",
                "    loss = nn.BCEWithLogitsLoss()\n",
                "    \n",
                "    if LOAD_MODEL:\n",
                "        load_checkpoint(CHECKPOINT_UNET, unet, opt, LEARNING_RATE)\n",
                "        \n",
                "    train_dataset = CarDataset(root_dir=TRAIN_DIR, mask_dir=TRAIN_DIR_MASK)\n",
                "    train_subset, val_subset = torch.utils.data.random_split(\n",
                "        train_dataset, [0.8, 0.2], generator=torch.Generator().manual_seed(1))\n",
                "    scaler = torch.cuda.amp.GradScaler()\n",
                "    \n",
                "    train_loader = DataLoader(train_subset, batch_size=BATCH_SIZE, shuffle=True, num_workers=NUM_WORKERS)\n",
                "    val_loader = DataLoader(val_subset, batch_size=BATCH_SIZE, shuffle=True, num_workers=NUM_WORKERS)\n",
                "    \n",
                "    for epoch in range(NUM_EPOCHS):\n",
                "        train_fn(unet, train_loader, opt, loss, scaler)\n",
                "        \n",
                "        if(SAVE_MODEL and epoch % 5 == 0):\n",
                "            save_checkpoint(unet, opt, filename=CHECKPOINT_UNET)\n",
                "        if epoch % 5 == 0:\n",
                "            save_some_examples(unet, val_loader, epoch, folder='.')\n",
                "\n",
                "main()"
            ]
        }
    ],
    "metadata": {
        "kernelspec": {
            "display_name": "Python 3",
            "language": "python",
            "name": "python3"
        },
        "language_info": {
            "codemirror_mode": {
                "name": "ipython",
                "version": 3
            },
            "file_extension": ".py",
            "mimetype": "text/x-python",
            "name": "python",
            "nbconvert_exporter": "python",
            "pygments_lexer": "ipython3",
            "version": "3.10.12"
        }
    },
    "nbformat": 4,
    "nbformat_minor": 4
}