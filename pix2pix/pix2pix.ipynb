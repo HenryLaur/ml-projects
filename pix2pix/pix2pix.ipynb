{
    "cells": [
        {
            "cell_type": "code",
            "execution_count": 1,
            "metadata": {
                "execution": {
                    "iopub.execute_input": "2023-07-13T11:39:04.222322Z",
                    "iopub.status.busy": "2023-07-13T11:39:04.221882Z",
                    "iopub.status.idle": "2023-07-13T11:39:07.397599Z",
                    "shell.execute_reply": "2023-07-13T11:39:07.396605Z",
                    "shell.execute_reply.started": "2023-07-13T11:39:04.222286Z"
                },
                "trusted": true
            },
            "outputs": [],
            "source": [
                "import numpy as np # linear algebra\n",
                "import pandas as pd # data processing, CSV file I/O (e.g. pd.read_csv)\n",
                "import torch\n",
                "import torch.nn as nn"
            ]
        },
        {
            "cell_type": "code",
            "execution_count": 2,
            "metadata": {
                "execution": {
                    "iopub.execute_input": "2023-07-13T11:39:07.400033Z",
                    "iopub.status.busy": "2023-07-13T11:39:07.399512Z",
                    "iopub.status.idle": "2023-07-13T11:39:07.660374Z",
                    "shell.execute_reply": "2023-07-13T11:39:07.659396Z",
                    "shell.execute_reply.started": "2023-07-13T11:39:07.400003Z"
                },
                "trusted": true
            },
            "outputs": [
                {
                    "name": "stdout",
                    "output_type": "stream",
                    "text": [
                        "torch.Size([1, 1, 26, 26])\n"
                    ]
                }
            ],
            "source": [
                "class CNNBlock(nn.Module):\n",
                "    def __init__ (self, in_channels, out_channels, stride=2):\n",
                "        super().__init__()\n",
                "        self.conv = nn.Sequential(\n",
                "            nn.Conv2d(in_channels, out_channels, 4, stride, bias=False, padding_mode=\"reflect\"),\n",
                "            nn.BatchNorm2d(out_channels),\n",
                "            nn.LeakyReLU(0.2)\n",
                "        )\n",
                "        \n",
                "    def forward(self, x):\n",
                "        return self.conv(x)\n",
                "    \n",
                "class Discriminator(nn.Module):\n",
                "    def __init__(self, in_channels=3, features=[64, 128, 256, 512]):\n",
                "        super().__init__()\n",
                "        # in_channels * 2 because we send in x, y and concat them along channels\n",
                "        self.inital = nn.Sequential(\n",
                "            nn.Conv2d(in_channels * 2, features[0], kernel_size=4, stride=2,padding=1, padding_mode=\"reflect\"),\n",
                "            nn.LeakyReLU(0.2)\n",
                "        )\n",
                "        \n",
                "        layers = []\n",
                "        in_channels = features[0]\n",
                "        for feature in features[1:]:\n",
                "            layers.append(\n",
                "                CNNBlock(in_channels, feature, stride=1 if feature == features[-1] else 2)\n",
                "            )\n",
                "            in_channels = feature\n",
                "            \n",
                "        layers.append(nn.Conv2d(in_channels, 1, kernel_size=4, stride=1, padding=1, padding_mode='reflect'))\n",
                "        \n",
                "        self.model = nn.Sequential(*layers)\n",
                "        \n",
                "    def forward(self, x, y):\n",
                "        # y is either fake or real\n",
                "        x = torch.cat([x, y], dim=1)\n",
                "        x = self.inital(x)\n",
                "        return self.model(x)\n",
                "\n",
                "\n",
                "x = torch.randn((1, 3, 256, 256))\n",
                "y = torch.randn((1, 3, 256, 256))\n",
                "model = Discriminator()\n",
                "preds = model(x, y)\n",
                "print(preds.shape)"
            ]
        },
        {
            "cell_type": "code",
            "execution_count": 3,
            "metadata": {
                "execution": {
                    "iopub.execute_input": "2023-07-13T11:39:07.662588Z",
                    "iopub.status.busy": "2023-07-13T11:39:07.662227Z",
                    "iopub.status.idle": "2023-07-13T11:39:08.696144Z",
                    "shell.execute_reply": "2023-07-13T11:39:08.695015Z",
                    "shell.execute_reply.started": "2023-07-13T11:39:07.662553Z"
                },
                "trusted": true
            },
            "outputs": [
                {
                    "name": "stdout",
                    "output_type": "stream",
                    "text": [
                        "torch.Size([1, 3, 256, 256])\n"
                    ]
                }
            ],
            "source": [
                "#Kinda like UNet\n",
                "class Block(nn.Module):\n",
                "    def __init__(self, in_channels, out_channels, down=True, act='relu', use_dropout=False):\n",
                "        super().__init__()\n",
                "        self.conv = nn.Sequential(\n",
                "            nn.Conv2d(in_channels, out_channels, 4, 2, 1, bias=False, padding_mode='reflect')\n",
                "            if down\n",
                "            else nn.ConvTranspose2d(in_channels, out_channels, 4, 2, 1, bias=False),\n",
                "            nn.BatchNorm2d(out_channels),\n",
                "            nn.ReLU() if act == 'relu' else nn.LeakyReLU(0.2)\n",
                "        )\n",
                "        self.use_dropout = use_dropout\n",
                "        self.dropout = nn.Dropout(0.5)\n",
                "        \n",
                "    def forward(self, x):\n",
                "        x = self.conv(x)\n",
                "        return self.dropout(x) if self.use_dropout else x\n",
                "    \n",
                "class Generator(nn.Module):\n",
                "    def __init__(self, in_channels=3, features=64):\n",
                "        super().__init__()\n",
                "        self.initial_down = nn.Sequential(\n",
                "            nn.Conv2d(in_channels, features, 4, 2, 1, padding_mode='reflect'),\n",
                "            nn.LeakyReLU(0.2)\n",
                "        )\n",
                "        \n",
                "        self.down1 = Block(features, features*2, down=True, act='leaky', use_dropout=False) # 64\n",
                "        self.down2 = Block(features*2, features*4, down=True, act='leaky', use_dropout=False) # 32\n",
                "        self.down3 = Block(features*4, features*8, down=True, act='leaky', use_dropout=False) # 16\n",
                "        self.down4 = Block(features*8, features*8, down=True, act='leaky', use_dropout=False) # 8\n",
                "        self.down5 = Block(features*8, features*8, down=True, act='leaky', use_dropout=False) # 4\n",
                "        self.down6 = Block(features*8, features*8, down=True, act='leaky', use_dropout=False) # 2\n",
                "\n",
                "        self.bottleneck= nn.Sequential(\n",
                "            nn.Conv2d(features*8, features*8, 4, 2, 1, padding_mode='reflect'), nn.ReLU() # 1x1\n",
                "        )\n",
                "        \n",
                "        self.up1 = Block(features*8, features*8, down=False, act='relu', use_dropout=True)\n",
                "        self.up2 = Block(features*8*2, features*8, down=False, act='relu', use_dropout=True)\n",
                "        self.up3 = Block(features*8*2, features*8, down=False, act='relu', use_dropout=True)\n",
                "        self.up4 = Block(features*8*2, features*8, down=False, act='relu', use_dropout=False)\n",
                "        self.up5 = Block(features*8*2, features*4, down=False, act='relu', use_dropout=False)\n",
                "        self.up6 = Block(features*4*2, features*2, down=False, act='relu', use_dropout=False)\n",
                "        self.up7 = Block(features*2*2, features, down=False, act='relu', use_dropout=False)\n",
                "        \n",
                "        self.final_up = nn.Sequential(\n",
                "            nn.ConvTranspose2d(features*2, in_channels, kernel_size=4, stride=2, padding=1),\n",
                "            nn.Tanh()\n",
                "        )\n",
                "        \n",
                "    def forward(self, x):\n",
                "        d1 = self.initial_down(x)\n",
                "        d2 = self.down1(d1)\n",
                "        d3 = self.down2(d2)\n",
                "        d4 = self.down3(d3)\n",
                "        d5 = self.down4(d4)\n",
                "        d6 = self.down5(d5)\n",
                "        d7 = self.down6(d6)\n",
                "        bottleneck = self.bottleneck(d7)\n",
                "            \n",
                "        up1 = self.up1(bottleneck)\n",
                "        up2 = self.up2(torch.cat([up1, d7], 1))\n",
                "        up3 = self.up3(torch.cat([up2, d6], 1))\n",
                "        up4 = self.up4(torch.cat([up3, d5], 1))\n",
                "        up5 = self.up5(torch.cat([up4, d4], 1))\n",
                "        up6 = self.up6(torch.cat([up5, d3], 1))\n",
                "        up7 = self.up7(torch.cat([up6, d2], 1))\n",
                "        return self.final_up(torch.cat([up7, d1], 1))\n",
                "        \n",
                "x = torch.randn((1, 3, 256, 256))\n",
                "model = Generator()\n",
                "preds = model(x)\n",
                "print(preds.shape)"
            ]
        },
        {
            "cell_type": "code",
            "execution_count": 10,
            "metadata": {
                "execution": {
                    "iopub.execute_input": "2023-07-13T11:46:36.085674Z",
                    "iopub.status.busy": "2023-07-13T11:46:36.084661Z",
                    "iopub.status.idle": "2023-07-13T11:46:36.096927Z",
                    "shell.execute_reply": "2023-07-13T11:46:36.096000Z",
                    "shell.execute_reply.started": "2023-07-13T11:46:36.085637Z"
                },
                "trusted": true
            },
            "outputs": [],
            "source": [
                "import torch\n",
                "import albumentations as A\n",
                "from albumentations.pytorch import ToTensorV2\n",
                "\n",
                "DEVICE = \"cuda\" if torch.cuda.is_available() else \"cpu\"\n",
                "TRAIN_DIR = \"data/train\"\n",
                "VAL_DIR = \"data/val\"\n",
                "LEARNING_RATE = 2e-4\n",
                "BATCH_SIZE = 16\n",
                "NUM_WORKERS = 2\n",
                "IMAGE_SIZE = 256\n",
                "CHANNELS_IMG = 3\n",
                "L1_LAMBDA = 100\n",
                "LAMBDA_GP = 10\n",
                "NUM_EPOCHS = 500\n",
                "LOAD_MODEL = True\n",
                "SAVE_MODEL = True\n",
                "CHECKPOINT_DISC = \"disc.pth.tar\"\n",
                "CHECKPOINT_GEN = \"gen.pth.tar\"\n",
                "\n",
                "both_transform = A.Compose(\n",
                "    [A.Resize(width=256, height=256),], additional_targets={\"image0\": \"image\"},\n",
                ")\n",
                "\n",
                "transform_only_input = A.Compose(\n",
                "    [\n",
                "        A.HorizontalFlip(p=0.5),\n",
                "        A.ColorJitter(p=0.2),\n",
                "        A.Normalize(mean=[0.5, 0.5, 0.5], std=[0.5, 0.5, 0.5], max_pixel_value=255.0,),\n",
                "        ToTensorV2(),\n",
                "    ]\n",
                ")\n",
                "\n",
                "transform_only_mask = A.Compose(\n",
                "    [\n",
                "        A.Normalize(mean=[0.5, 0.5, 0.5], std=[0.5, 0.5, 0.5], max_pixel_value=255.0,),\n",
                "        ToTensorV2(),\n",
                "    ]\n",
                ")"
            ]
        },
        {
            "cell_type": "code",
            "execution_count": 5,
            "metadata": {
                "execution": {
                    "iopub.execute_input": "2023-07-13T11:39:10.516042Z",
                    "iopub.status.busy": "2023-07-13T11:39:10.515350Z",
                    "iopub.status.idle": "2023-07-13T11:39:10.524824Z",
                    "shell.execute_reply": "2023-07-13T11:39:10.523920Z",
                    "shell.execute_reply.started": "2023-07-13T11:39:10.516007Z"
                },
                "trusted": true
            },
            "outputs": [],
            "source": [
                "from PIL import Image\n",
                "import os\n",
                "from torch.utils.data import Dataset\n",
                "\n",
                "class AnimeDataset(Dataset):\n",
                "    def __init__(self, root_dir):\n",
                "        self.root_dir = root_dir\n",
                "        self.list_file = os.listdir(self.root_dir)\n",
                "\n",
                "        \n",
                "    def __len__(self):\n",
                "        return len(self.list_file)\n",
                "    \n",
                "\n",
                "    def __getitem__(self, index):\n",
                "        img_file = self.list_file[index]\n",
                "        img_path = os.path.join(self.root_dir, img_file)\n",
                "        img = np.array(Image.open(img_path))\n",
                "        input_img = img[:, :512, :]\n",
                "        target_img = img[:, 512:, :]\n",
                "        \n",
                "        augmentations = both_transform(image=input_img, image0=target_img)\n",
                "        input_img, target_img = augmentations['image'], augmentations['image0']\n",
                "        \n",
                "        input_img = transform_only_input(image=input_img)['image']\n",
                "        target_img = transform_only_mask(image=target_img)['image']\n",
                "        \n",
                "        return input_img, target_img"
            ]
        },
        {
            "cell_type": "code",
            "execution_count": 6,
            "metadata": {
                "execution": {
                    "iopub.execute_input": "2023-07-13T11:39:10.527759Z",
                    "iopub.status.busy": "2023-07-13T11:39:10.527098Z",
                    "iopub.status.idle": "2023-07-13T11:39:11.143941Z",
                    "shell.execute_reply": "2023-07-13T11:39:11.141714Z",
                    "shell.execute_reply.started": "2023-07-13T11:39:10.527728Z"
                },
                "trusted": true
            },
            "outputs": [],
            "source": [
                "from torch.utils.data import DataLoader\n",
                "te_dataset = AnimeDataset(root_dir='/kaggle/input/anime-sketch-colorization-pair/data/train/')\n",
                "te_loader = DataLoader(te_dataset, batch_size=1, shuffle=True, num_workers=1)\n",
                "\n",
                "batch= iter(te_loader)\n",
                "images, labels = next(batch)"
            ]
        },
        {
            "cell_type": "code",
            "execution_count": 7,
            "metadata": {
                "execution": {
                    "iopub.execute_input": "2023-07-13T11:39:11.147328Z",
                    "iopub.status.busy": "2023-07-13T11:39:11.146635Z",
                    "iopub.status.idle": "2023-07-13T11:39:11.239657Z",
                    "shell.execute_reply": "2023-07-13T11:39:11.238715Z",
                    "shell.execute_reply.started": "2023-07-13T11:39:11.147291Z"
                },
                "trusted": true
            },
            "outputs": [
                {
                    "data": {
                        "image/png": "[encoded data removed]",
                        "text/plain": [
                            "<PIL.Image.Image image mode=RGB size=256x256>"
                        ]
                    },
                    "execution_count": 7,
                    "metadata": {},
                    "output_type": "execute_result"
                }
            ],
            "source": [
                "import torchvision.transforms as T\n",
                "images[0].shape\n",
                "transform = T.ToPILImage()\n",
                "transform(images[0])"
            ]
        },
        {
            "cell_type": "code",
            "execution_count": 11,
            "metadata": {
                "execution": {
                    "iopub.execute_input": "2023-07-13T11:46:39.275801Z",
                    "iopub.status.busy": "2023-07-13T11:46:39.275171Z",
                    "iopub.status.idle": "2023-07-13T11:46:39.294366Z",
                    "shell.execute_reply": "2023-07-13T11:46:39.292253Z",
                    "shell.execute_reply.started": "2023-07-13T11:46:39.275732Z"
                },
                "trusted": true
            },
            "outputs": [],
            "source": [
                "import torch\n",
                "from torchvision.utils import save_image\n",
                "\n",
                "def save_some_examples(gen, val_loader, epoch, folder):\n",
                "    x, y = next(iter(val_loader))\n",
                "    x, y = x.to(DEVICE), y.to(DEVICE)\n",
                "    gen.eval()\n",
                "    with torch.no_grad():\n",
                "        y_fake = gen(x)\n",
                "        y_fake = y_fake * 0.5 + 0.5  # remove normalization#\n",
                "        save_image(y_fake, folder + f\"/y_gen_{epoch}.png\")\n",
                "        save_image(x * 0.5 + 0.5, folder + f\"/input_{epoch}.png\")\n",
                "        if epoch == 1:\n",
                "            save_image(y * 0.5 + 0.5, folder + f\"/label_{epoch}.png\")\n",
                "    gen.train()\n",
                "\n",
                "\n",
                "def save_checkpoint(model, optimizer, filename=\"my_checkpoint.pth.tar\"):\n",
                "    checkpoint = {\n",
                "        \"state_dict\": model.state_dict(),\n",
                "        \"optimizer\": optimizer.state_dict(),\n",
                "    }\n",
                "    torch.save(checkpoint, filename)\n",
                "\n",
                "\n",
                "def load_checkpoint(checkpoint_file, model, optimizer, lr):\n",
                "    checkpoint = torch.load(\"/kaggle/input/models/\" + checkpoint_file, map_location=DEVICE)\n",
                "    model.load_state_dict(checkpoint[\"state_dict\"])\n",
                "    optimizer.load_state_dict(checkpoint[\"optimizer\"])\n",
                "    for param_group in optimizer.param_groups:\n",
                "        param_group[\"lr\"] = lr\n"
            ]
        },
        {
            "cell_type": "code",
            "execution_count": 12,
            "metadata": {
                "execution": {
                    "iopub.execute_input": "2023-07-13T11:46:43.195926Z",
                    "iopub.status.busy": "2023-07-13T11:46:43.195534Z",
                    "iopub.status.idle": "2023-07-13T13:48:38.387341Z",
                    "shell.execute_reply": "2023-07-13T13:48:38.385734Z",
                    "shell.execute_reply.started": "2023-07-13T11:46:43.195893Z"
                },
                "trusted": true
            },
            "outputs": [
                {
                    "name": "stdout",
                    "output_type": "stream",
                    "text": [
                        "True\n",
                        "=> Loading checkpoint\n",
                        "=> Loading checkpoint\n"
                    ]
                },
                {
                    "name": "stderr",
                    "output_type": "stream",
                    "text": [
                        "100%|██████████| 889/889 [04:38<00:00,  3.19it/s]\n"
                    ]
                },
                {
                    "name": "stdout",
                    "output_type": "stream",
                    "text": [
                        "=> Saving checkpoint\n",
                        "=> Saving checkpoint\n"
                    ]
                },
                {
                    "name": "stderr",
                    "output_type": "stream",
                    "text": [
                        "100%|██████████| 889/889 [04:38<00:00,  3.19it/s]\n",
                        "100%|██████████| 889/889 [04:39<00:00,  3.19it/s]\n",
                        "100%|██████████| 889/889 [04:37<00:00,  3.20it/s]\n",
                        "100%|██████████| 889/889 [04:38<00:00,  3.19it/s]\n",
                        "100%|██████████| 889/889 [04:38<00:00,  3.20it/s]\n"
                    ]
                },
                {
                    "name": "stdout",
                    "output_type": "stream",
                    "text": [
                        "=> Saving checkpoint\n",
                        "=> Saving checkpoint\n"
                    ]
                },
                {
                    "name": "stderr",
                    "output_type": "stream",
                    "text": [
                        "100%|██████████| 889/889 [04:38<00:00,  3.20it/s]\n",
                        "100%|██████████| 889/889 [04:39<00:00,  3.18it/s]\n",
                        "100%|██████████| 889/889 [04:38<00:00,  3.20it/s]\n",
                        "100%|██████████| 889/889 [04:38<00:00,  3.19it/s]\n",
                        "100%|██████████| 889/889 [04:39<00:00,  3.18it/s]\n"
                    ]
                },
                {
                    "name": "stdout",
                    "output_type": "stream",
                    "text": [
                        "=> Saving checkpoint\n",
                        "=> Saving checkpoint\n"
                    ]
                },
                {
                    "name": "stderr",
                    "output_type": "stream",
                    "text": [
                        "100%|██████████| 889/889 [04:37<00:00,  3.20it/s]\n",
                        "100%|██████████| 889/889 [04:38<00:00,  3.19it/s]\n",
                        "100%|██████████| 889/889 [04:38<00:00,  3.20it/s]\n",
                        "100%|██████████| 889/889 [04:38<00:00,  3.19it/s]\n",
                        "100%|██████████| 889/889 [04:38<00:00,  3.20it/s]\n"
                    ]
                },
                {
                    "name": "stdout",
                    "output_type": "stream",
                    "text": [
                        "=> Saving checkpoint\n",
                        "=> Saving checkpoint\n"
                    ]
                },
                {
                    "name": "stderr",
                    "output_type": "stream",
                    "text": [
                        "100%|██████████| 889/889 [04:36<00:00,  3.21it/s]\n",
                        "100%|██████████| 889/889 [04:37<00:00,  3.20it/s]\n",
                        "100%|██████████| 889/889 [04:37<00:00,  3.20it/s]\n",
                        "100%|██████████| 889/889 [04:37<00:00,  3.20it/s]\n",
                        "100%|██████████| 889/889 [04:38<00:00,  3.20it/s]\n"
                    ]
                },
                {
                    "name": "stdout",
                    "output_type": "stream",
                    "text": [
                        "=> Saving checkpoint\n",
                        "=> Saving checkpoint\n"
                    ]
                },
                {
                    "name": "stderr",
                    "output_type": "stream",
                    "text": [
                        "100%|██████████| 889/889 [04:37<00:00,  3.20it/s]\n",
                        "100%|██████████| 889/889 [04:37<00:00,  3.20it/s]\n",
                        "100%|██████████| 889/889 [04:38<00:00,  3.20it/s]\n",
                        "100%|██████████| 889/889 [04:37<00:00,  3.21it/s]\n",
                        "100%|██████████| 889/889 [04:37<00:00,  3.20it/s]\n"
                    ]
                },
                {
                    "name": "stdout",
                    "output_type": "stream",
                    "text": [
                        "=> Saving checkpoint\n",
                        "=> Saving checkpoint\n"
                    ]
                },
                {
                    "name": "stderr",
                    "output_type": "stream",
                    "text": [
                        "  6%|▌         | 54/889 [00:17<04:36,  3.02it/s]\n"
                    ]
                }
            ],
            "source": [
                "import torch\n",
                "import torch.nn as nn\n",
                "import torch.optim as optim\n",
                "from torch.utils.data import DataLoader\n",
                "from tqdm import tqdm\n",
                "from torchvision.utils import save_image\n",
                "print(SAVE_MODEL)\n",
                "torch.backends.cudnn.benchmark = True\n",
                "\n",
                "def train_fn(disc, gen, train_loader, opt_disc, opt_gen, L1_LOSS, BCE, g_scaler, d_scaler):\n",
                "    loop = tqdm(train_loader, leave=True)\n",
                "    \n",
                "    for idx, (x, y) in enumerate(loop):\n",
                "        x, y = x.to(DEVICE), y.to(DEVICE)\n",
                "        \n",
                "        #Train Discriminator\n",
                "        with torch.cuda.amp.autocast():\n",
                "            y_fake = gen(x)\n",
                "            D_real = disc(x, y)\n",
                "            D_fake = disc(x, y_fake.detach())\n",
                "            \n",
                "            D_real_loss = BCE(D_real, torch.ones_like(D_real))\n",
                "            D_fake_loss = BCE(D_fake, torch.zeros_like(D_fake))\n",
                "\n",
                "            D_loss = (D_real_loss + D_fake_loss) / 2\n",
                "            \n",
                "        opt_disc.zero_grad()\n",
                "        d_scaler.scale(D_loss).backward()\n",
                "        d_scaler.step(opt_disc)\n",
                "        d_scaler.update()\n",
                "        \n",
                "        #Train Generator\n",
                "        with torch.cuda.amp.autocast():\n",
                "            D_fake = disc(x, y_fake)\n",
                "            \n",
                "            G_fake_loss = BCE(D_fake, torch.ones_like(D_fake))\n",
                "            L1 = L1_LOSS(y_fake, y) * L1_LAMBDA\n",
                "            G_LOSS = G_fake_loss + L1\n",
                "            \n",
                "                       \n",
                "        opt_gen.zero_grad()\n",
                "        g_scaler.scale(G_LOSS).backward()\n",
                "        g_scaler.step(opt_gen)\n",
                "        g_scaler.update() \n",
                "        \n",
                "def main():\n",
                "    disc = Discriminator(in_channels=3).to(DEVICE)\n",
                "    gen = Generator(in_channels=3).to(DEVICE)\n",
                "    opt_disc=optim.Adam(disc.parameters(), lr=LEARNING_RATE, betas=(0.5, 0.999))\n",
                "    opt_gen=optim.Adam(gen.parameters(), lr=LEARNING_RATE, betas=(0.5, 0.999))\n",
                "    \n",
                "    BCE = nn.BCEWithLogitsLoss()\n",
                "    L1_LOSS = nn.L1Loss()\n",
                "    \n",
                "    if LOAD_MODEL:\n",
                "        load_checkpoint(CHECKPOINT_GEN, gen, opt_gen, LEARNING_RATE)\n",
                "        load_checkpoint(CHECKPOINT_DISC, disc, opt_disc, LEARNING_RATE)\n",
                "        \n",
                "    train_dataset = AnimeDataset(root_dir='/kaggle/input/anime-sketch-colorization-pair/data/train/')\n",
                "    train_loader = DataLoader(train_dataset, batch_size=BATCH_SIZE, shuffle=True, num_workers=NUM_WORKERS)\n",
                "    \n",
                "    g_scaler = torch.cuda.amp.GradScaler()\n",
                "    d_scaler = torch.cuda.amp.GradScaler()\n",
                "    \n",
                "    val_dataset = AnimeDataset(root_dir='/kaggle/input/anime-sketch-colorization-pair/data/val/')\n",
                "    val_loader = DataLoader(val_dataset, batch_size=BATCH_SIZE, shuffle=True, num_workers=NUM_WORKERS)\n",
                "    \n",
                "    for epoch in range(NUM_EPOCHS):\n",
                "        train_fn(disc, gen, train_loader, opt_disc, opt_gen, L1_LOSS, BCE, g_scaler, d_scaler)\n",
                "        \n",
                "        if(SAVE_MODEL and epoch % 5 == 0):\n",
                "            save_checkpoint(gen, opt_gen, filename=CHECKPOINT_GEN)\n",
                "            save_checkpoint(disc, opt_disc, filename=CHECKPOINT_DISC)\n",
                "            \n",
                "        save_some_examples(gen, val_loader, epoch, folder='.')\n",
                "        \n",
                "main()"
            ]
        }
    ],
    "metadata": {
        "kernelspec": {
            "display_name": "Python 3",
            "language": "python",
            "name": "python3"
        },
        "language_info": {
            "codemirror_mode": {
                "name": "ipython",
                "version": 3
            },
            "file_extension": ".py",
            "mimetype": "text/x-python",
            "name": "python",
            "nbconvert_exporter": "python",
            "pygments_lexer": "ipython3",
            "version": "3.10.12"
        }
    },
    "nbformat": 4,
    "nbformat_minor": 4
}
